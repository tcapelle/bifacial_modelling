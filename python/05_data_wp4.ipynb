{
 "cells": [
  {
   "cell_type": "code",
   "execution_count": 1,
   "metadata": {},
   "outputs": [],
   "source": [
    "%load_ext autoreload\n",
    "%autoreload 2"
   ]
  },
  {
   "cell_type": "code",
   "execution_count": 2,
   "metadata": {},
   "outputs": [],
   "source": [
    "# Import external libraries\n",
    "import numpy as np\n",
    "import pandas as pd\n",
    "from pathlib import Path\n",
    "from utils import *\n",
    "\n",
    "# Settings\n",
    "%matplotlib inline\n",
    "np.set_printoptions(precision=3)"
   ]
  },
  {
   "cell_type": "code",
   "execution_count": 3,
   "metadata": {},
   "outputs": [
    {
     "data": {
      "text/plain": [
       "[WindowsPath('../INCA/.ipynb_checkpoints'),\n",
       " WindowsPath('../INCA/data_1H.hdf'),\n",
       " WindowsPath('../INCA/data_1T.hdf'),\n",
       " WindowsPath('../INCA/meteo2017-2018_1H.hdf'),\n",
       " WindowsPath('../INCA/meteo2017-2018_1T.hdf'),\n",
       " WindowsPath('../INCA/pvgis.tmy')]"
      ]
     },
     "execution_count": 3,
     "metadata": {},
     "output_type": "execute_result"
    }
   ],
   "source": [
    "PATH = Path('../INCA')  #<-- set this variable to the path of the INCA data\n",
    "PATH.ls()"
   ]
  },
  {
   "cell_type": "code",
   "execution_count": 4,
   "metadata": {},
   "outputs": [],
   "source": [
    "weather_file = PATH/'meteo2017-2018_1H.hdf'\n",
    "tmy_file = PATH/'pvgis.tmy'\n",
    "data_file = PATH/'data_1T.hdf'"
   ]
  },
  {
   "cell_type": "markdown",
   "metadata": {},
   "source": [
    "Para leer estos archivos se necesita tener soporte hdf (high density format) para pandas. Hay dos archivos de datos meteo:\n",
    "- 1H : paso de tiempo 1 Hora\n",
    "- 1T : paso de tiempo 1 Minuto"
   ]
  },
  {
   "cell_type": "code",
   "execution_count": 5,
   "metadata": {},
   "outputs": [],
   "source": [
    "weather = pd.read_hdf(weather_file, key='df')\n",
    "gps_data, months, tmy = read_pvgis(tmy_file, coerce_year=2017)"
   ]
  },
  {
   "cell_type": "markdown",
   "metadata": {},
   "source": [
    "Datos de  nuestro demostrador INCA en INES:\n",
    "- Los datos meteo: ghi, temp_air, ... vienen de una estacion meteo tipo VAISALA y un pyrano.\n",
    "- A_irradiance: es una celula de referencia cara frontal tilted (30 grados)\n",
    "- A2, B2, E2 son celulas de referencia cara posterior"
   ]
  },
  {
   "cell_type": "code",
   "execution_count": 6,
   "metadata": {},
   "outputs": [
    {
     "data": {
      "text/html": [
       "<div>\n",
       "<style scoped>\n",
       "    .dataframe tbody tr th:only-of-type {\n",
       "        vertical-align: middle;\n",
       "    }\n",
       "\n",
       "    .dataframe tbody tr th {\n",
       "        vertical-align: top;\n",
       "    }\n",
       "\n",
       "    .dataframe thead th {\n",
       "        text-align: right;\n",
       "    }\n",
       "</style>\n",
       "<table border=\"1\" class=\"dataframe\">\n",
       "  <thead>\n",
       "    <tr style=\"text-align: right;\">\n",
       "      <th></th>\n",
       "      <th>ghi</th>\n",
       "      <th>temp_air</th>\n",
       "      <th>wind_speed</th>\n",
       "      <th>wind_dir</th>\n",
       "      <th>pressure</th>\n",
       "      <th>humidity</th>\n",
       "      <th>rainIntensity</th>\n",
       "      <th>hailIntensity</th>\n",
       "      <th>A_irradiance</th>\n",
       "      <th>A2_irradiance</th>\n",
       "      <th>B2_irradiance</th>\n",
       "      <th>E2_irradiance</th>\n",
       "    </tr>\n",
       "  </thead>\n",
       "  <tbody>\n",
       "    <tr>\n",
       "      <th>2017-01-04 07:00:00</th>\n",
       "      <td>6.00</td>\n",
       "      <td>0.0</td>\n",
       "      <td>0.0</td>\n",
       "      <td>0.0</td>\n",
       "      <td>0.0</td>\n",
       "      <td>0.0</td>\n",
       "      <td>0.0</td>\n",
       "      <td>0.0</td>\n",
       "      <td>8.0</td>\n",
       "      <td>2.0</td>\n",
       "      <td>2.0</td>\n",
       "      <td>1.5</td>\n",
       "    </tr>\n",
       "    <tr>\n",
       "      <th>2017-01-04 08:00:00</th>\n",
       "      <td>29.50</td>\n",
       "      <td>0.0</td>\n",
       "      <td>0.0</td>\n",
       "      <td>0.0</td>\n",
       "      <td>0.0</td>\n",
       "      <td>0.0</td>\n",
       "      <td>0.0</td>\n",
       "      <td>0.0</td>\n",
       "      <td>31.0</td>\n",
       "      <td>7.0</td>\n",
       "      <td>7.0</td>\n",
       "      <td>7.0</td>\n",
       "    </tr>\n",
       "    <tr>\n",
       "      <th>2017-01-04 09:00:00</th>\n",
       "      <td>43.75</td>\n",
       "      <td>0.0</td>\n",
       "      <td>0.0</td>\n",
       "      <td>0.0</td>\n",
       "      <td>0.0</td>\n",
       "      <td>0.0</td>\n",
       "      <td>0.0</td>\n",
       "      <td>0.0</td>\n",
       "      <td>43.0</td>\n",
       "      <td>10.0</td>\n",
       "      <td>10.0</td>\n",
       "      <td>10.0</td>\n",
       "    </tr>\n",
       "    <tr>\n",
       "      <th>2017-01-04 10:00:00</th>\n",
       "      <td>66.00</td>\n",
       "      <td>0.0</td>\n",
       "      <td>0.0</td>\n",
       "      <td>0.0</td>\n",
       "      <td>0.0</td>\n",
       "      <td>0.0</td>\n",
       "      <td>0.0</td>\n",
       "      <td>0.0</td>\n",
       "      <td>64.0</td>\n",
       "      <td>15.0</td>\n",
       "      <td>14.0</td>\n",
       "      <td>14.5</td>\n",
       "    </tr>\n",
       "    <tr>\n",
       "      <th>2017-01-04 11:00:00</th>\n",
       "      <td>95.50</td>\n",
       "      <td>0.0</td>\n",
       "      <td>0.0</td>\n",
       "      <td>0.0</td>\n",
       "      <td>0.0</td>\n",
       "      <td>0.0</td>\n",
       "      <td>0.0</td>\n",
       "      <td>0.0</td>\n",
       "      <td>91.5</td>\n",
       "      <td>21.5</td>\n",
       "      <td>20.5</td>\n",
       "      <td>21.0</td>\n",
       "    </tr>\n",
       "  </tbody>\n",
       "</table>\n",
       "</div>"
      ],
      "text/plain": [
       "                       ghi  temp_air  wind_speed  wind_dir  pressure  \\\n",
       "2017-01-04 07:00:00   6.00       0.0         0.0       0.0       0.0   \n",
       "2017-01-04 08:00:00  29.50       0.0         0.0       0.0       0.0   \n",
       "2017-01-04 09:00:00  43.75       0.0         0.0       0.0       0.0   \n",
       "2017-01-04 10:00:00  66.00       0.0         0.0       0.0       0.0   \n",
       "2017-01-04 11:00:00  95.50       0.0         0.0       0.0       0.0   \n",
       "\n",
       "                     humidity  rainIntensity  hailIntensity  A_irradiance  \\\n",
       "2017-01-04 07:00:00       0.0            0.0            0.0           8.0   \n",
       "2017-01-04 08:00:00       0.0            0.0            0.0          31.0   \n",
       "2017-01-04 09:00:00       0.0            0.0            0.0          43.0   \n",
       "2017-01-04 10:00:00       0.0            0.0            0.0          64.0   \n",
       "2017-01-04 11:00:00       0.0            0.0            0.0          91.5   \n",
       "\n",
       "                     A2_irradiance  B2_irradiance  E2_irradiance  \n",
       "2017-01-04 07:00:00            2.0            2.0            1.5  \n",
       "2017-01-04 08:00:00            7.0            7.0            7.0  \n",
       "2017-01-04 09:00:00           10.0           10.0           10.0  \n",
       "2017-01-04 10:00:00           15.0           14.0           14.5  \n",
       "2017-01-04 11:00:00           21.5           20.5           21.0  "
      ]
     },
     "execution_count": 6,
     "metadata": {},
     "output_type": "execute_result"
    }
   ],
   "source": [
    "weather.head()"
   ]
  },
  {
   "cell_type": "markdown",
   "metadata": {},
   "source": [
    "Datos de nuestro demostrador de PVGIS (satelite)"
   ]
  },
  {
   "cell_type": "code",
   "execution_count": 7,
   "metadata": {},
   "outputs": [
    {
     "data": {
      "text/html": [
       "<div>\n",
       "<style scoped>\n",
       "    .dataframe tbody tr th:only-of-type {\n",
       "        vertical-align: middle;\n",
       "    }\n",
       "\n",
       "    .dataframe tbody tr th {\n",
       "        vertical-align: top;\n",
       "    }\n",
       "\n",
       "    .dataframe thead th {\n",
       "        text-align: right;\n",
       "    }\n",
       "</style>\n",
       "<table border=\"1\" class=\"dataframe\">\n",
       "  <thead>\n",
       "    <tr style=\"text-align: right;\">\n",
       "      <th></th>\n",
       "      <th>temp_air</th>\n",
       "      <th>humidity</th>\n",
       "      <th>ghi</th>\n",
       "      <th>dni</th>\n",
       "      <th>dhi</th>\n",
       "      <th>infrared_downwars</th>\n",
       "      <th>wind_speed</th>\n",
       "      <th>wind_dir</th>\n",
       "      <th>air_pressure</th>\n",
       "    </tr>\n",
       "    <tr>\n",
       "      <th>datetime</th>\n",
       "      <th></th>\n",
       "      <th></th>\n",
       "      <th></th>\n",
       "      <th></th>\n",
       "      <th></th>\n",
       "      <th></th>\n",
       "      <th></th>\n",
       "      <th></th>\n",
       "      <th></th>\n",
       "    </tr>\n",
       "  </thead>\n",
       "  <tbody>\n",
       "    <tr>\n",
       "      <th>2017-01-01 00:00:00</th>\n",
       "      <td>2.87</td>\n",
       "      <td>88.28</td>\n",
       "      <td>0.0</td>\n",
       "      <td>-0.0</td>\n",
       "      <td>0.0</td>\n",
       "      <td>259.63</td>\n",
       "      <td>1.33</td>\n",
       "      <td>350</td>\n",
       "      <td>99504</td>\n",
       "    </tr>\n",
       "    <tr>\n",
       "      <th>2017-01-01 01:00:00</th>\n",
       "      <td>3.59</td>\n",
       "      <td>90.07</td>\n",
       "      <td>0.0</td>\n",
       "      <td>-0.0</td>\n",
       "      <td>0.0</td>\n",
       "      <td>268.30</td>\n",
       "      <td>1.39</td>\n",
       "      <td>346</td>\n",
       "      <td>99508</td>\n",
       "    </tr>\n",
       "    <tr>\n",
       "      <th>2017-01-01 02:00:00</th>\n",
       "      <td>4.32</td>\n",
       "      <td>91.86</td>\n",
       "      <td>0.0</td>\n",
       "      <td>-0.0</td>\n",
       "      <td>0.0</td>\n",
       "      <td>276.97</td>\n",
       "      <td>1.45</td>\n",
       "      <td>342</td>\n",
       "      <td>99511</td>\n",
       "    </tr>\n",
       "    <tr>\n",
       "      <th>2017-01-01 03:00:00</th>\n",
       "      <td>5.04</td>\n",
       "      <td>93.64</td>\n",
       "      <td>0.0</td>\n",
       "      <td>-0.0</td>\n",
       "      <td>0.0</td>\n",
       "      <td>285.64</td>\n",
       "      <td>1.51</td>\n",
       "      <td>347</td>\n",
       "      <td>99517</td>\n",
       "    </tr>\n",
       "    <tr>\n",
       "      <th>2017-01-01 04:00:00</th>\n",
       "      <td>5.76</td>\n",
       "      <td>95.43</td>\n",
       "      <td>0.0</td>\n",
       "      <td>-0.0</td>\n",
       "      <td>0.0</td>\n",
       "      <td>294.32</td>\n",
       "      <td>1.57</td>\n",
       "      <td>351</td>\n",
       "      <td>99524</td>\n",
       "    </tr>\n",
       "  </tbody>\n",
       "</table>\n",
       "</div>"
      ],
      "text/plain": [
       "                     temp_air  humidity  ghi  dni  dhi  infrared_downwars  \\\n",
       "datetime                                                                    \n",
       "2017-01-01 00:00:00      2.87     88.28  0.0 -0.0  0.0             259.63   \n",
       "2017-01-01 01:00:00      3.59     90.07  0.0 -0.0  0.0             268.30   \n",
       "2017-01-01 02:00:00      4.32     91.86  0.0 -0.0  0.0             276.97   \n",
       "2017-01-01 03:00:00      5.04     93.64  0.0 -0.0  0.0             285.64   \n",
       "2017-01-01 04:00:00      5.76     95.43  0.0 -0.0  0.0             294.32   \n",
       "\n",
       "                     wind_speed  wind_dir  air_pressure  \n",
       "datetime                                                 \n",
       "2017-01-01 00:00:00        1.33       350         99504  \n",
       "2017-01-01 01:00:00        1.39       346         99508  \n",
       "2017-01-01 02:00:00        1.45       342         99511  \n",
       "2017-01-01 03:00:00        1.51       347         99517  \n",
       "2017-01-01 04:00:00        1.57       351         99524  "
      ]
     },
     "execution_count": 7,
     "metadata": {},
     "output_type": "execute_result"
    }
   ],
   "source": [
    "tmy.head()"
   ]
  },
  {
   "cell_type": "code",
   "execution_count": 8,
   "metadata": {},
   "outputs": [
    {
     "data": {
      "text/plain": [
       "<matplotlib.axes._subplots.AxesSubplot at 0x29185e98828>"
      ]
     },
     "execution_count": 8,
     "metadata": {},
     "output_type": "execute_result"
    },
    {
     "data": {
      "image/png": "[encoded data removed]",
      "text/plain": [
       "<Figure size 432x288 with 1 Axes>"
      ]
     },
     "metadata": {
      "needs_background": "light"
     },
     "output_type": "display_data"
    }
   ],
   "source": [
    "weather['21 June 2017'][['A_irradiance', 'A2_irradiance', 'B2_irradiance', 'E2_irradiance']].plot()"
   ]
  },
  {
   "cell_type": "markdown",
   "metadata": {},
   "source": [
    "# String data"
   ]
  },
  {
   "cell_type": "code",
   "execution_count": 9,
   "metadata": {},
   "outputs": [],
   "source": [
    "data = pd.read_hdf(data_file, key='df')"
   ]
  },
  {
   "cell_type": "markdown",
   "metadata": {},
   "source": [
    "Data from our inverters. One inverter per module type. You will find again the reference cells that are available in the weather data. There is also a clear sky ghi column.\n",
    "Our configuration are tilted 30 degrees modules facing south.\n",
    "- Inv11: Fronius IG+ 50V.1 champ PV n° A / 10 Bifacial module with white backsheet (60 cells)\n",
    "- Inv12: Fronius IG+ 50V.1 champ PV n° B /  10 Bifacial module glass/glass (60 cells)\n",
    "- Inv15: Fronius IG+ 50V.1 champ PV n° E / 10 Bifacial module glass/glass (60 cells)\n",
    "- clear_sky : ghi from pvlib clearsky model\n",
    "All modules have white gravel (albedo 0.4)\n"
   ]
  },
  {
   "cell_type": "code",
   "execution_count": 10,
   "metadata": {},
   "outputs": [
    {
     "data": {
      "text/html": [
       "<div>\n",
       "<style scoped>\n",
       "    .dataframe tbody tr th:only-of-type {\n",
       "        vertical-align: middle;\n",
       "    }\n",
       "\n",
       "    .dataframe tbody tr th {\n",
       "        vertical-align: top;\n",
       "    }\n",
       "\n",
       "    .dataframe thead tr th {\n",
       "        text-align: left;\n",
       "    }\n",
       "\n",
       "    .dataframe thead tr:last-of-type th {\n",
       "        text-align: right;\n",
       "    }\n",
       "</style>\n",
       "<table border=\"1\" class=\"dataframe\">\n",
       "  <thead>\n",
       "    <tr>\n",
       "      <th>component</th>\n",
       "      <th colspan=\"6\" halign=\"left\">inv11</th>\n",
       "      <th colspan=\"2\" halign=\"left\">cell_ref_A</th>\n",
       "      <th colspan=\"2\" halign=\"left\">cell_ref_A2</th>\n",
       "      <th>...</th>\n",
       "      <th colspan=\"6\" halign=\"left\">inv15</th>\n",
       "      <th colspan=\"2\" halign=\"left\">cell_ref_E2</th>\n",
       "      <th>Tmod_E</th>\n",
       "      <th>clear_sky</th>\n",
       "    </tr>\n",
       "    <tr>\n",
       "      <th>quantity</th>\n",
       "      <th>dcPower</th>\n",
       "      <th>dcVoltage</th>\n",
       "      <th>dcCurrent</th>\n",
       "      <th>acActivePower</th>\n",
       "      <th>acVoltage</th>\n",
       "      <th>acActiveCurrent</th>\n",
       "      <th>irradiance</th>\n",
       "      <th>temperature</th>\n",
       "      <th>irradiance</th>\n",
       "      <th>temperature</th>\n",
       "      <th>...</th>\n",
       "      <th>dcPower</th>\n",
       "      <th>dcVoltage</th>\n",
       "      <th>dcCurrent</th>\n",
       "      <th>acActivePower</th>\n",
       "      <th>acVoltage</th>\n",
       "      <th>acActiveCurrent</th>\n",
       "      <th>irradiance</th>\n",
       "      <th>temperature</th>\n",
       "      <th>t</th>\n",
       "      <th>irradiance</th>\n",
       "    </tr>\n",
       "    <tr>\n",
       "      <th>date</th>\n",
       "      <th></th>\n",
       "      <th></th>\n",
       "      <th></th>\n",
       "      <th></th>\n",
       "      <th></th>\n",
       "      <th></th>\n",
       "      <th></th>\n",
       "      <th></th>\n",
       "      <th></th>\n",
       "      <th></th>\n",
       "      <th></th>\n",
       "      <th></th>\n",
       "      <th></th>\n",
       "      <th></th>\n",
       "      <th></th>\n",
       "      <th></th>\n",
       "      <th></th>\n",
       "      <th></th>\n",
       "      <th></th>\n",
       "      <th></th>\n",
       "      <th></th>\n",
       "    </tr>\n",
       "  </thead>\n",
       "  <tbody>\n",
       "    <tr>\n",
       "      <th>2017-01-01 00:00:00</th>\n",
       "      <td>1.0</td>\n",
       "      <td>12051.0</td>\n",
       "      <td>162.0</td>\n",
       "      <td>-9.0</td>\n",
       "      <td>235572.0</td>\n",
       "      <td>445.0</td>\n",
       "      <td>0.0</td>\n",
       "      <td>6552750.0</td>\n",
       "      <td>0.0</td>\n",
       "      <td>-200.0</td>\n",
       "      <td>...</td>\n",
       "      <td>0.0</td>\n",
       "      <td>0.0</td>\n",
       "      <td>77.0</td>\n",
       "      <td>0.0</td>\n",
       "      <td>234320.0</td>\n",
       "      <td>0.0</td>\n",
       "      <td>0.0</td>\n",
       "      <td>-250.0</td>\n",
       "      <td>-2100.0</td>\n",
       "      <td>0.0</td>\n",
       "    </tr>\n",
       "    <tr>\n",
       "      <th>2017-01-01 00:00:00</th>\n",
       "      <td>0.0</td>\n",
       "      <td>0.0</td>\n",
       "      <td>162.0</td>\n",
       "      <td>0.0</td>\n",
       "      <td>235128.0</td>\n",
       "      <td>444.0</td>\n",
       "      <td>0.0</td>\n",
       "      <td>6552800.0</td>\n",
       "      <td>0.0</td>\n",
       "      <td>-200.0</td>\n",
       "      <td>...</td>\n",
       "      <td>0.0</td>\n",
       "      <td>0.0</td>\n",
       "      <td>77.0</td>\n",
       "      <td>0.0</td>\n",
       "      <td>234230.0</td>\n",
       "      <td>0.0</td>\n",
       "      <td>0.0</td>\n",
       "      <td>-300.0</td>\n",
       "      <td>-2040.0</td>\n",
       "      <td>0.0</td>\n",
       "    </tr>\n",
       "    <tr>\n",
       "      <th>2017-01-01 00:01:00</th>\n",
       "      <td>0.0</td>\n",
       "      <td>0.0</td>\n",
       "      <td>162.0</td>\n",
       "      <td>0.0</td>\n",
       "      <td>234732.0</td>\n",
       "      <td>442.0</td>\n",
       "      <td>0.0</td>\n",
       "      <td>6552800.0</td>\n",
       "      <td>0.0</td>\n",
       "      <td>-200.0</td>\n",
       "      <td>...</td>\n",
       "      <td>0.0</td>\n",
       "      <td>0.0</td>\n",
       "      <td>78.0</td>\n",
       "      <td>0.0</td>\n",
       "      <td>233926.0</td>\n",
       "      <td>0.0</td>\n",
       "      <td>0.0</td>\n",
       "      <td>-300.0</td>\n",
       "      <td>-2040.0</td>\n",
       "      <td>0.0</td>\n",
       "    </tr>\n",
       "    <tr>\n",
       "      <th>2017-01-01 00:02:00</th>\n",
       "      <td>0.0</td>\n",
       "      <td>0.0</td>\n",
       "      <td>162.0</td>\n",
       "      <td>0.0</td>\n",
       "      <td>234790.0</td>\n",
       "      <td>442.0</td>\n",
       "      <td>0.0</td>\n",
       "      <td>6552800.0</td>\n",
       "      <td>0.0</td>\n",
       "      <td>-200.0</td>\n",
       "      <td>...</td>\n",
       "      <td>0.0</td>\n",
       "      <td>0.0</td>\n",
       "      <td>77.0</td>\n",
       "      <td>0.0</td>\n",
       "      <td>233686.0</td>\n",
       "      <td>0.0</td>\n",
       "      <td>0.0</td>\n",
       "      <td>-300.0</td>\n",
       "      <td>-2040.0</td>\n",
       "      <td>0.0</td>\n",
       "    </tr>\n",
       "    <tr>\n",
       "      <th>2017-01-01 00:03:00</th>\n",
       "      <td>0.0</td>\n",
       "      <td>0.0</td>\n",
       "      <td>162.0</td>\n",
       "      <td>0.0</td>\n",
       "      <td>234156.0</td>\n",
       "      <td>441.0</td>\n",
       "      <td>0.0</td>\n",
       "      <td>6552800.0</td>\n",
       "      <td>0.0</td>\n",
       "      <td>-200.0</td>\n",
       "      <td>...</td>\n",
       "      <td>0.0</td>\n",
       "      <td>0.0</td>\n",
       "      <td>77.0</td>\n",
       "      <td>0.0</td>\n",
       "      <td>233354.0</td>\n",
       "      <td>0.0</td>\n",
       "      <td>0.0</td>\n",
       "      <td>-300.0</td>\n",
       "      <td>-2040.0</td>\n",
       "      <td>0.0</td>\n",
       "    </tr>\n",
       "  </tbody>\n",
       "</table>\n",
       "<p>5 rows × 30 columns</p>\n",
       "</div>"
      ],
      "text/plain": [
       "component             inv11                                              \\\n",
       "quantity            dcPower dcVoltage dcCurrent acActivePower acVoltage   \n",
       "date                                                                      \n",
       "2017-01-01 00:00:00     1.0   12051.0     162.0          -9.0  235572.0   \n",
       "2017-01-01 00:00:00     0.0       0.0     162.0           0.0  235128.0   \n",
       "2017-01-01 00:01:00     0.0       0.0     162.0           0.0  234732.0   \n",
       "2017-01-01 00:02:00     0.0       0.0     162.0           0.0  234790.0   \n",
       "2017-01-01 00:03:00     0.0       0.0     162.0           0.0  234156.0   \n",
       "\n",
       "component                           cell_ref_A             cell_ref_A2  \\\n",
       "quantity            acActiveCurrent irradiance temperature  irradiance   \n",
       "date                                                                     \n",
       "2017-01-01 00:00:00           445.0        0.0   6552750.0         0.0   \n",
       "2017-01-01 00:00:00           444.0        0.0   6552800.0         0.0   \n",
       "2017-01-01 00:01:00           442.0        0.0   6552800.0         0.0   \n",
       "2017-01-01 00:02:00           442.0        0.0   6552800.0         0.0   \n",
       "2017-01-01 00:03:00           441.0        0.0   6552800.0         0.0   \n",
       "\n",
       "component                        ...   inv15                      \\\n",
       "quantity            temperature  ... dcPower dcVoltage dcCurrent   \n",
       "date                             ...                               \n",
       "2017-01-01 00:00:00      -200.0  ...     0.0       0.0      77.0   \n",
       "2017-01-01 00:00:00      -200.0  ...     0.0       0.0      77.0   \n",
       "2017-01-01 00:01:00      -200.0  ...     0.0       0.0      78.0   \n",
       "2017-01-01 00:02:00      -200.0  ...     0.0       0.0      77.0   \n",
       "2017-01-01 00:03:00      -200.0  ...     0.0       0.0      77.0   \n",
       "\n",
       "component                                                   cell_ref_E2  \\\n",
       "quantity            acActivePower acVoltage acActiveCurrent  irradiance   \n",
       "date                                                                      \n",
       "2017-01-01 00:00:00           0.0  234320.0             0.0         0.0   \n",
       "2017-01-01 00:00:00           0.0  234230.0             0.0         0.0   \n",
       "2017-01-01 00:01:00           0.0  233926.0             0.0         0.0   \n",
       "2017-01-01 00:02:00           0.0  233686.0             0.0         0.0   \n",
       "2017-01-01 00:03:00           0.0  233354.0             0.0         0.0   \n",
       "\n",
       "component                        Tmod_E  clear_sky  \n",
       "quantity            temperature       t irradiance  \n",
       "date                                                \n",
       "2017-01-01 00:00:00      -250.0 -2100.0        0.0  \n",
       "2017-01-01 00:00:00      -300.0 -2040.0        0.0  \n",
       "2017-01-01 00:01:00      -300.0 -2040.0        0.0  \n",
       "2017-01-01 00:02:00      -300.0 -2040.0        0.0  \n",
       "2017-01-01 00:03:00      -300.0 -2040.0        0.0  \n",
       "\n",
       "[5 rows x 30 columns]"
      ]
     },
     "execution_count": 10,
     "metadata": {},
     "output_type": "execute_result"
    }
   ],
   "source": [
    "data.head()"
   ]
  },
  {
   "cell_type": "markdown",
   "metadata": {},
   "source": [
    "The data frame makes use of pandas `pd.MultiIndex` to be able to slice down the hierarchy:"
   ]
  },
  {
   "cell_type": "code",
   "execution_count": 11,
   "metadata": {},
   "outputs": [
    {
     "data": {
      "text/plain": [
       "<matplotlib.axes._subplots.AxesSubplot at 0x291859e6550>"
      ]
     },
     "execution_count": 11,
     "metadata": {},
     "output_type": "execute_result"
    },
    {
     "data": {
      "image/png": "[encoded data removed]",
      "text/plain": [
       "<Figure size 720x360 with 1 Axes>"
      ]
     },
     "metadata": {
      "needs_background": "light"
     },
     "output_type": "display_data"
    }
   ],
   "source": [
    "data.loc['22 June 2018',(['inv11', 'inv12', 'inv15'], 'dcPower')].plot(figsize=(10,5))"
   ]
  },
  {
   "cell_type": "markdown",
   "metadata": {},
   "source": [
    "The data is far from perfect, so some processing will be necesarry. For instace May 2018 is missing data for most of the measures."
   ]
  },
  {
   "cell_type": "code",
   "execution_count": 12,
   "metadata": {},
   "outputs": [
    {
     "data": {
      "text/plain": [
       "<matplotlib.axes._subplots.AxesSubplot at 0x291918d8d30>"
      ]
     },
     "execution_count": 12,
     "metadata": {},
     "output_type": "execute_result"
    },
    {
     "data": {
      "image/png": "[encoded data removed]",
      "text/plain": [
       "<Figure size 720x360 with 1 Axes>"
      ]
     },
     "metadata": {
      "needs_background": "light"
     },
     "output_type": "display_data"
    }
   ],
   "source": [
    "data.loc['May 2018',(['inv11', 'inv12', 'inv15'], 'dcPower')].plot(figsize=(10,5))"
   ]
  },
  {
   "cell_type": "code",
   "execution_count": null,
   "metadata": {},
   "outputs": [],
   "source": []
  }
 ],
 "metadata": {
  "kernelspec": {
   "display_name": "Python 3",
   "language": "python",
   "name": "python3"
  },
  "language_info": {
   "codemirror_mode": {
    "name": "ipython",
    "version": 3
   },
   "file_extension": ".py",
   "mimetype": "text/x-python",
   "name": "python",
   "nbconvert_exporter": "python",
   "pygments_lexer": "ipython3",
   "version": "3.7.3"
  }
 },
 "nbformat": 4,
 "nbformat_minor": 2
}
