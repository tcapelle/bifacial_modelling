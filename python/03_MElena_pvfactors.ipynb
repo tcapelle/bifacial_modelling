{
 "cells": [
  {
   "cell_type": "code",
   "execution_count": 1,
   "metadata": {},
   "outputs": [],
   "source": [
    "%load_ext autoreload\n",
    "%autoreload 2"
   ]
  },
  {
   "cell_type": "code",
   "execution_count": 3,
   "metadata": {},
   "outputs": [],
   "source": [
    "from parallel_run import *\n",
    "from utils import *\n",
    "\n",
    "PATH = Path('../data')\n",
    "filename = PATH/'DHTMY_SAM_E_0KGKSU.csv'\n",
    "meta, tmy_data = read_tmy(filename,  coerce_year=2018)"
   ]
  },
  {
   "cell_type": "code",
   "execution_count": 4,
   "metadata": {},
   "outputs": [
    {
     "data": {
      "text/plain": [
       "{'Source': 'ExpSolar',\n",
       " 'Location ID': '00000',\n",
       " 'City': 'S1',\n",
       " 'State': 'NA',\n",
       " 'Country': 'Chile',\n",
       " 'Latitude': -22.1689,\n",
       " 'Longitude': -69.4219,\n",
       " 'Time Zone': -4,\n",
       " 'Elevation': 1163.0}"
      ]
     },
     "execution_count": 4,
     "metadata": {},
     "output_type": "execute_result"
    }
   ],
   "source": [
    "meta"
   ]
  },
  {
   "cell_type": "code",
   "execution_count": 5,
   "metadata": {},
   "outputs": [
    {
     "data": {
      "text/html": [
       "<div>\n",
       "<style scoped>\n",
       "    .dataframe tbody tr th:only-of-type {\n",
       "        vertical-align: middle;\n",
       "    }\n",
       "\n",
       "    .dataframe tbody tr th {\n",
       "        vertical-align: top;\n",
       "    }\n",
       "\n",
       "    .dataframe thead th {\n",
       "        text-align: right;\n",
       "    }\n",
       "</style>\n",
       "<table border=\"1\" class=\"dataframe\">\n",
       "  <thead>\n",
       "    <tr style=\"text-align: right;\">\n",
       "      <th></th>\n",
       "      <th>ghi</th>\n",
       "      <th>dni</th>\n",
       "      <th>dhi</th>\n",
       "      <th>temp_air</th>\n",
       "      <th>temp_dew</th>\n",
       "      <th>humidity</th>\n",
       "      <th>air_pressure</th>\n",
       "      <th>wind_speed</th>\n",
       "      <th>wind_dir</th>\n",
       "      <th>snow</th>\n",
       "    </tr>\n",
       "    <tr>\n",
       "      <th>datetime</th>\n",
       "      <th></th>\n",
       "      <th></th>\n",
       "      <th></th>\n",
       "      <th></th>\n",
       "      <th></th>\n",
       "      <th></th>\n",
       "      <th></th>\n",
       "      <th></th>\n",
       "      <th></th>\n",
       "      <th></th>\n",
       "    </tr>\n",
       "  </thead>\n",
       "  <tbody>\n",
       "    <tr>\n",
       "      <th>2018-01-01 00:00:00-04:00</th>\n",
       "      <td>0.0</td>\n",
       "      <td>0.0</td>\n",
       "      <td>0.0</td>\n",
       "      <td>16.7</td>\n",
       "      <td>16.7</td>\n",
       "      <td>81.2</td>\n",
       "      <td>884.9</td>\n",
       "      <td>2.9</td>\n",
       "      <td>2.3</td>\n",
       "      <td>0</td>\n",
       "    </tr>\n",
       "    <tr>\n",
       "      <th>2018-01-01 01:00:00-04:00</th>\n",
       "      <td>0.0</td>\n",
       "      <td>0.0</td>\n",
       "      <td>0.0</td>\n",
       "      <td>16.1</td>\n",
       "      <td>16.1</td>\n",
       "      <td>77.0</td>\n",
       "      <td>885.0</td>\n",
       "      <td>1.9</td>\n",
       "      <td>22.3</td>\n",
       "      <td>0</td>\n",
       "    </tr>\n",
       "    <tr>\n",
       "      <th>2018-01-01 02:00:00-04:00</th>\n",
       "      <td>0.0</td>\n",
       "      <td>0.0</td>\n",
       "      <td>0.0</td>\n",
       "      <td>15.0</td>\n",
       "      <td>15.0</td>\n",
       "      <td>75.6</td>\n",
       "      <td>885.1</td>\n",
       "      <td>1.4</td>\n",
       "      <td>31.8</td>\n",
       "      <td>0</td>\n",
       "    </tr>\n",
       "    <tr>\n",
       "      <th>2018-01-01 03:00:00-04:00</th>\n",
       "      <td>0.0</td>\n",
       "      <td>0.0</td>\n",
       "      <td>0.0</td>\n",
       "      <td>14.7</td>\n",
       "      <td>14.7</td>\n",
       "      <td>74.7</td>\n",
       "      <td>885.1</td>\n",
       "      <td>0.3</td>\n",
       "      <td>38.9</td>\n",
       "      <td>0</td>\n",
       "    </tr>\n",
       "    <tr>\n",
       "      <th>2018-01-01 04:00:00-04:00</th>\n",
       "      <td>0.0</td>\n",
       "      <td>0.0</td>\n",
       "      <td>0.0</td>\n",
       "      <td>13.6</td>\n",
       "      <td>13.6</td>\n",
       "      <td>76.6</td>\n",
       "      <td>885.1</td>\n",
       "      <td>1.1</td>\n",
       "      <td>43.2</td>\n",
       "      <td>0</td>\n",
       "    </tr>\n",
       "    <tr>\n",
       "      <th>2018-01-01 05:00:00-04:00</th>\n",
       "      <td>0.0</td>\n",
       "      <td>0.0</td>\n",
       "      <td>0.0</td>\n",
       "      <td>12.7</td>\n",
       "      <td>12.7</td>\n",
       "      <td>81.1</td>\n",
       "      <td>885.1</td>\n",
       "      <td>1.4</td>\n",
       "      <td>47.3</td>\n",
       "      <td>0</td>\n",
       "    </tr>\n",
       "    <tr>\n",
       "      <th>2018-01-01 06:00:00-04:00</th>\n",
       "      <td>0.0</td>\n",
       "      <td>0.0</td>\n",
       "      <td>0.0</td>\n",
       "      <td>11.5</td>\n",
       "      <td>11.5</td>\n",
       "      <td>79.3</td>\n",
       "      <td>885.1</td>\n",
       "      <td>1.0</td>\n",
       "      <td>213.1</td>\n",
       "      <td>0</td>\n",
       "    </tr>\n",
       "    <tr>\n",
       "      <th>2018-01-01 07:00:00-04:00</th>\n",
       "      <td>187.0</td>\n",
       "      <td>711.7</td>\n",
       "      <td>32.5</td>\n",
       "      <td>12.7</td>\n",
       "      <td>12.7</td>\n",
       "      <td>59.6</td>\n",
       "      <td>885.1</td>\n",
       "      <td>0.4</td>\n",
       "      <td>220.3</td>\n",
       "      <td>0</td>\n",
       "    </tr>\n",
       "    <tr>\n",
       "      <th>2018-01-01 08:00:00-04:00</th>\n",
       "      <td>433.5</td>\n",
       "      <td>900.9</td>\n",
       "      <td>42.0</td>\n",
       "      <td>17.1</td>\n",
       "      <td>17.1</td>\n",
       "      <td>42.9</td>\n",
       "      <td>884.8</td>\n",
       "      <td>1.4</td>\n",
       "      <td>232.9</td>\n",
       "      <td>0</td>\n",
       "    </tr>\n",
       "    <tr>\n",
       "      <th>2018-01-01 09:00:00-04:00</th>\n",
       "      <td>669.5</td>\n",
       "      <td>984.0</td>\n",
       "      <td>47.1</td>\n",
       "      <td>20.6</td>\n",
       "      <td>20.6</td>\n",
       "      <td>32.1</td>\n",
       "      <td>884.5</td>\n",
       "      <td>1.4</td>\n",
       "      <td>249.7</td>\n",
       "      <td>0</td>\n",
       "    </tr>\n",
       "  </tbody>\n",
       "</table>\n",
       "</div>"
      ],
      "text/plain": [
       "                             ghi    dni   dhi  temp_air  temp_dew  humidity  \\\n",
       "datetime                                                                      \n",
       "2018-01-01 00:00:00-04:00    0.0    0.0   0.0      16.7      16.7      81.2   \n",
       "2018-01-01 01:00:00-04:00    0.0    0.0   0.0      16.1      16.1      77.0   \n",
       "2018-01-01 02:00:00-04:00    0.0    0.0   0.0      15.0      15.0      75.6   \n",
       "2018-01-01 03:00:00-04:00    0.0    0.0   0.0      14.7      14.7      74.7   \n",
       "2018-01-01 04:00:00-04:00    0.0    0.0   0.0      13.6      13.6      76.6   \n",
       "2018-01-01 05:00:00-04:00    0.0    0.0   0.0      12.7      12.7      81.1   \n",
       "2018-01-01 06:00:00-04:00    0.0    0.0   0.0      11.5      11.5      79.3   \n",
       "2018-01-01 07:00:00-04:00  187.0  711.7  32.5      12.7      12.7      59.6   \n",
       "2018-01-01 08:00:00-04:00  433.5  900.9  42.0      17.1      17.1      42.9   \n",
       "2018-01-01 09:00:00-04:00  669.5  984.0  47.1      20.6      20.6      32.1   \n",
       "\n",
       "                           air_pressure  wind_speed  wind_dir  snow  \n",
       "datetime                                                             \n",
       "2018-01-01 00:00:00-04:00         884.9         2.9       2.3     0  \n",
       "2018-01-01 01:00:00-04:00         885.0         1.9      22.3     0  \n",
       "2018-01-01 02:00:00-04:00         885.1         1.4      31.8     0  \n",
       "2018-01-01 03:00:00-04:00         885.1         0.3      38.9     0  \n",
       "2018-01-01 04:00:00-04:00         885.1         1.1      43.2     0  \n",
       "2018-01-01 05:00:00-04:00         885.1         1.4      47.3     0  \n",
       "2018-01-01 06:00:00-04:00         885.1         1.0     213.1     0  \n",
       "2018-01-01 07:00:00-04:00         885.1         0.4     220.3     0  \n",
       "2018-01-01 08:00:00-04:00         884.8         1.4     232.9     0  \n",
       "2018-01-01 09:00:00-04:00         884.5         1.4     249.7     0  "
      ]
     },
     "execution_count": 5,
     "metadata": {},
     "output_type": "execute_result"
    }
   ],
   "source": [
    "tmy_data.head(10)"
   ]
  },
  {
   "cell_type": "code",
   "execution_count": 6,
   "metadata": {},
   "outputs": [
    {
     "data": {
      "text/plain": [
       "{'n_pvrows': 3,\n",
       " 'pvrow_height': 1.8,\n",
       " 'pvrow_width': 1.98,\n",
       " 'tracking': True,\n",
       " 'axis_azimuth': 0,\n",
       " 'surface_tilt': 38,\n",
       " 'surface_azimuth': 180,\n",
       " 'albedo': 0.3,\n",
       " 'gcr': 0.3,\n",
       " 'rho_front_pvrow': 0.075,\n",
       " 'rho_back_pvrow': 0.075,\n",
       " 'cut': {0: {'front': 3, 'back': 6},\n",
       "  1: {'front': 3, 'back': 6},\n",
       "  2: {'front': 3, 'back': 6}}}"
      ]
     },
     "execution_count": 6,
     "metadata": {},
     "output_type": "execute_result"
    }
   ],
   "source": [
    "pvarray_parameters = system_def(albedo=0.3, module_size=(1.976, 0.99), \n",
    "                                h_ground=1.8, tracking=True, axis_azimuth=0, \n",
    "                                n_pvrows=3, gcr=0.3);pvarray_parameters"
   ]
  },
  {
   "cell_type": "code",
   "execution_count": 7,
   "metadata": {},
   "outputs": [
    {
     "name": "stderr",
     "output_type": "stream",
     "text": [
      "INFO:parallel_run:Correcting 117 indexes, Total GHI discarded = 578.0000000000001\n",
      "C:\\Users\\tc256760\\AppData\\Local\\Continuum\\miniconda3\\envs\\pvfactors\\lib\\site-packages\\pvlib\\tracking.py:449: RuntimeWarning: invalid value encountered in arccos\n",
      "  wc = np.degrees(np.arccos(temp))\n",
      "C:\\Users\\tc256760\\AppData\\Local\\Continuum\\miniconda3\\envs\\pvfactors\\lib\\site-packages\\pvlib\\tracking.py:473: RuntimeWarning: invalid value encountered in arccos\n",
      "  aoi = np.degrees(np.arccos(np.abs(np.sum(sun_vec*panel_norm, axis=0))))\n",
      "C:\\Users\\tc256760\\AppData\\Local\\Continuum\\miniconda3\\envs\\pvfactors\\lib\\site-packages\\pvlib\\tracking.py:568: RuntimeWarning: invalid value encountered in remainder\n",
      "  surface_azimuth = surface_azimuth % 360\n",
      "C:\\Users\\tc256760\\AppData\\Local\\Continuum\\miniconda3\\envs\\pvfactors\\lib\\site-packages\\pvlib\\tracking.py:572: RuntimeWarning: invalid value encountered in arccos\n",
      "  surface_tilt = 90 - np.degrees(np.arccos(dotproduct))\n"
     ]
    }
   ],
   "source": [
    "data = get_data(filename, pvarray_parameters, reader='tmy')"
   ]
  },
  {
   "cell_type": "code",
   "execution_count": 8,
   "metadata": {},
   "outputs": [
    {
     "data": {
      "image/png": "[encoded data removed]",
      "text/plain": [
       "<Figure size 720x216 with 1 Axes>"
      ]
     },
     "metadata": {
      "needs_background": "light"
     },
     "output_type": "display_data"
    },
    {
     "data": {
      "text/plain": [
       "<pvfactors.geometry.pvarray.OrderedPVArray at 0x1c174436f98>"
      ]
     },
     "execution_count": 8,
     "metadata": {},
     "output_type": "execute_result"
    }
   ],
   "source": [
    "debug_pvarray(data, pvarray_parameters, 12)"
   ]
  },
  {
   "cell_type": "code",
   "execution_count": 9,
   "metadata": {},
   "outputs": [
    {
     "name": "stderr",
     "output_type": "stream",
     "text": [
      "INFO:pvfactors.run:Parallel calculation elapsed time: 82.74208736419678 sec\n"
     ]
    }
   ],
   "source": [
    "res = pv_engine_run(data, pvarray_parameters, parallel=6)"
   ]
  },
  {
   "cell_type": "code",
   "execution_count": 11,
   "metadata": {},
   "outputs": [
    {
     "data": {
      "image/png": "[encoded data removed]",
      "text/plain": [
       "<Figure size 864x360 with 1 Axes>"
      ]
     },
     "metadata": {
      "needs_background": "light"
     },
     "output_type": "display_data"
    }
   ],
   "source": [
    "plot_gain(res.qinc_front, res.qinc_back_high)"
   ]
  },
  {
   "cell_type": "code",
   "execution_count": 12,
   "metadata": {},
   "outputs": [
    {
     "data": {
      "text/plain": [
       "3.9061306635560227"
      ]
     },
     "execution_count": 12,
     "metadata": {},
     "output_type": "execute_result"
    }
   ],
   "source": [
    "(res.qinc_front.sum()+res.qinc_back_high.sum())/1e6"
   ]
  }
 ],
 "metadata": {
  "kernelspec": {
   "display_name": "Python 3",
   "language": "python",
   "name": "python3"
  },
  "language_info": {
   "codemirror_mode": {
    "name": "ipython",
    "version": 3
   },
   "file_extension": ".py",
   "mimetype": "text/x-python",
   "name": "python",
   "nbconvert_exporter": "python",
   "pygments_lexer": "ipython3",
   "version": "3.7.3"
  }
 },
 "nbformat": 4,
 "nbformat_minor": 2
}
