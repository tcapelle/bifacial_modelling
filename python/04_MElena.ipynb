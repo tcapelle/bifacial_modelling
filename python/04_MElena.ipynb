{
 "cells": [
  {
   "cell_type": "code",
   "execution_count": 1,
   "metadata": {},
   "outputs": [],
   "source": [
    "%load_ext autoreload\n",
    "%autoreload 2"
   ]
  },
  {
   "cell_type": "code",
   "execution_count": 2,
   "metadata": {},
   "outputs": [],
   "source": [
    "import pvlib\n",
    "from pvlib.pvsystem import PVSystem\n",
    "from pvlib.location import Location\n",
    "from pvlib.modelchain import ModelChain"
   ]
  },
  {
   "cell_type": "code",
   "execution_count": 3,
   "metadata": {},
   "outputs": [],
   "source": [
    "import matplotlib.pyplot as plt"
   ]
  },
  {
   "cell_type": "code",
   "execution_count": 4,
   "metadata": {},
   "outputs": [],
   "source": [
    "from parallel_run import *\n",
    "from utils import *"
   ]
  },
  {
   "cell_type": "code",
   "execution_count": 7,
   "metadata": {},
   "outputs": [],
   "source": [
    "PATH = Path('../data')"
   ]
  },
  {
   "cell_type": "code",
   "execution_count": 8,
   "metadata": {},
   "outputs": [],
   "source": [
    "filename = PATH/'DHTMY_SAM_E_0KGKSU.csv'\n",
    "meta, tmy_data = read_tmy(filename,  coerce_year=2018)"
   ]
  },
  {
   "cell_type": "code",
   "execution_count": 9,
   "metadata": {},
   "outputs": [
    {
     "data": {
      "text/plain": [
       "{'Source': 'ExpSolar',\n",
       " 'Location ID': '00000',\n",
       " 'City': 'S1',\n",
       " 'State': 'NA',\n",
       " 'Country': 'Chile',\n",
       " 'Latitude': -22.1689,\n",
       " 'Longitude': -69.4219,\n",
       " 'Time Zone': -4,\n",
       " 'Elevation': 1163.0}"
      ]
     },
     "execution_count": 9,
     "metadata": {},
     "output_type": "execute_result"
    }
   ],
   "source": [
    "meta"
   ]
  },
  {
   "cell_type": "code",
   "execution_count": 10,
   "metadata": {},
   "outputs": [
    {
     "data": {
      "text/html": [
       "<div>\n",
       "<style scoped>\n",
       "    .dataframe tbody tr th:only-of-type {\n",
       "        vertical-align: middle;\n",
       "    }\n",
       "\n",
       "    .dataframe tbody tr th {\n",
       "        vertical-align: top;\n",
       "    }\n",
       "\n",
       "    .dataframe thead th {\n",
       "        text-align: right;\n",
       "    }\n",
       "</style>\n",
       "<table border=\"1\" class=\"dataframe\">\n",
       "  <thead>\n",
       "    <tr style=\"text-align: right;\">\n",
       "      <th></th>\n",
       "      <th>ghi</th>\n",
       "      <th>dni</th>\n",
       "      <th>dhi</th>\n",
       "      <th>temp_air</th>\n",
       "      <th>temp_dew</th>\n",
       "      <th>humidity</th>\n",
       "      <th>air_pressure</th>\n",
       "      <th>wind_speed</th>\n",
       "      <th>wind_dir</th>\n",
       "      <th>snow</th>\n",
       "    </tr>\n",
       "    <tr>\n",
       "      <th>datetime</th>\n",
       "      <th></th>\n",
       "      <th></th>\n",
       "      <th></th>\n",
       "      <th></th>\n",
       "      <th></th>\n",
       "      <th></th>\n",
       "      <th></th>\n",
       "      <th></th>\n",
       "      <th></th>\n",
       "      <th></th>\n",
       "    </tr>\n",
       "  </thead>\n",
       "  <tbody>\n",
       "    <tr>\n",
       "      <th>2018-01-01 00:00:00-04:00</th>\n",
       "      <td>0.0</td>\n",
       "      <td>0.0</td>\n",
       "      <td>0.0</td>\n",
       "      <td>16.7</td>\n",
       "      <td>16.7</td>\n",
       "      <td>81.2</td>\n",
       "      <td>884.9</td>\n",
       "      <td>2.9</td>\n",
       "      <td>2.3</td>\n",
       "      <td>0</td>\n",
       "    </tr>\n",
       "    <tr>\n",
       "      <th>2018-01-01 01:00:00-04:00</th>\n",
       "      <td>0.0</td>\n",
       "      <td>0.0</td>\n",
       "      <td>0.0</td>\n",
       "      <td>16.1</td>\n",
       "      <td>16.1</td>\n",
       "      <td>77.0</td>\n",
       "      <td>885.0</td>\n",
       "      <td>1.9</td>\n",
       "      <td>22.3</td>\n",
       "      <td>0</td>\n",
       "    </tr>\n",
       "    <tr>\n",
       "      <th>2018-01-01 02:00:00-04:00</th>\n",
       "      <td>0.0</td>\n",
       "      <td>0.0</td>\n",
       "      <td>0.0</td>\n",
       "      <td>15.0</td>\n",
       "      <td>15.0</td>\n",
       "      <td>75.6</td>\n",
       "      <td>885.1</td>\n",
       "      <td>1.4</td>\n",
       "      <td>31.8</td>\n",
       "      <td>0</td>\n",
       "    </tr>\n",
       "    <tr>\n",
       "      <th>2018-01-01 03:00:00-04:00</th>\n",
       "      <td>0.0</td>\n",
       "      <td>0.0</td>\n",
       "      <td>0.0</td>\n",
       "      <td>14.7</td>\n",
       "      <td>14.7</td>\n",
       "      <td>74.7</td>\n",
       "      <td>885.1</td>\n",
       "      <td>0.3</td>\n",
       "      <td>38.9</td>\n",
       "      <td>0</td>\n",
       "    </tr>\n",
       "    <tr>\n",
       "      <th>2018-01-01 04:00:00-04:00</th>\n",
       "      <td>0.0</td>\n",
       "      <td>0.0</td>\n",
       "      <td>0.0</td>\n",
       "      <td>13.6</td>\n",
       "      <td>13.6</td>\n",
       "      <td>76.6</td>\n",
       "      <td>885.1</td>\n",
       "      <td>1.1</td>\n",
       "      <td>43.2</td>\n",
       "      <td>0</td>\n",
       "    </tr>\n",
       "  </tbody>\n",
       "</table>\n",
       "</div>"
      ],
      "text/plain": [
       "                           ghi  dni  dhi  temp_air  temp_dew  humidity  \\\n",
       "datetime                                                                 \n",
       "2018-01-01 00:00:00-04:00  0.0  0.0  0.0      16.7      16.7      81.2   \n",
       "2018-01-01 01:00:00-04:00  0.0  0.0  0.0      16.1      16.1      77.0   \n",
       "2018-01-01 02:00:00-04:00  0.0  0.0  0.0      15.0      15.0      75.6   \n",
       "2018-01-01 03:00:00-04:00  0.0  0.0  0.0      14.7      14.7      74.7   \n",
       "2018-01-01 04:00:00-04:00  0.0  0.0  0.0      13.6      13.6      76.6   \n",
       "\n",
       "                           air_pressure  wind_speed  wind_dir  snow  \n",
       "datetime                                                             \n",
       "2018-01-01 00:00:00-04:00         884.9         2.9       2.3     0  \n",
       "2018-01-01 01:00:00-04:00         885.0         1.9      22.3     0  \n",
       "2018-01-01 02:00:00-04:00         885.1         1.4      31.8     0  \n",
       "2018-01-01 03:00:00-04:00         885.1         0.3      38.9     0  \n",
       "2018-01-01 04:00:00-04:00         885.1         1.1      43.2     0  "
      ]
     },
     "execution_count": 10,
     "metadata": {},
     "output_type": "execute_result"
    }
   ],
   "source": [
    "tmy_data.head()"
   ]
  },
  {
   "cell_type": "code",
   "execution_count": 13,
   "metadata": {},
   "outputs": [],
   "source": [
    "times = tmy_data.index\n",
    "coordinates = (meta['Latitude'], \n",
    "               meta['Longitude'], \n",
    "               meta['Time Zone'], \n",
    "               meta['Elevation'],\n",
    "               'Maria Elena')"
   ]
  },
  {
   "cell_type": "code",
   "execution_count": 14,
   "metadata": {},
   "outputs": [],
   "source": [
    "location = Location(*coordinates)"
   ]
  },
  {
   "cell_type": "code",
   "execution_count": 15,
   "metadata": {},
   "outputs": [
    {
     "data": {
      "text/html": [
       "<div>\n",
       "<style scoped>\n",
       "    .dataframe tbody tr th:only-of-type {\n",
       "        vertical-align: middle;\n",
       "    }\n",
       "\n",
       "    .dataframe tbody tr th {\n",
       "        vertical-align: top;\n",
       "    }\n",
       "\n",
       "    .dataframe thead th {\n",
       "        text-align: right;\n",
       "    }\n",
       "</style>\n",
       "<table border=\"1\" class=\"dataframe\">\n",
       "  <thead>\n",
       "    <tr style=\"text-align: right;\">\n",
       "      <th></th>\n",
       "      <th>apparent_zenith</th>\n",
       "      <th>zenith</th>\n",
       "      <th>apparent_elevation</th>\n",
       "      <th>elevation</th>\n",
       "      <th>azimuth</th>\n",
       "      <th>equation_of_time</th>\n",
       "    </tr>\n",
       "    <tr>\n",
       "      <th>datetime</th>\n",
       "      <th></th>\n",
       "      <th></th>\n",
       "      <th></th>\n",
       "      <th></th>\n",
       "      <th></th>\n",
       "      <th></th>\n",
       "    </tr>\n",
       "  </thead>\n",
       "  <tbody>\n",
       "    <tr>\n",
       "      <th>2018-01-01 00:00:00-04:00</th>\n",
       "      <td>133.733485</td>\n",
       "      <td>133.733485</td>\n",
       "      <td>-43.733485</td>\n",
       "      <td>-43.733485</td>\n",
       "      <td>193.132186</td>\n",
       "      <td>-3.404951</td>\n",
       "    </tr>\n",
       "    <tr>\n",
       "      <th>2018-01-01 01:00:00-04:00</th>\n",
       "      <td>134.597476</td>\n",
       "      <td>134.597476</td>\n",
       "      <td>-44.597476</td>\n",
       "      <td>-44.597476</td>\n",
       "      <td>173.892446</td>\n",
       "      <td>-3.424553</td>\n",
       "    </tr>\n",
       "    <tr>\n",
       "      <th>2018-01-01 02:00:00-04:00</th>\n",
       "      <td>130.925969</td>\n",
       "      <td>130.925969</td>\n",
       "      <td>-40.925969</td>\n",
       "      <td>-40.925969</td>\n",
       "      <td>155.732051</td>\n",
       "      <td>-3.444146</td>\n",
       "    </tr>\n",
       "    <tr>\n",
       "      <th>2018-01-01 03:00:00-04:00</th>\n",
       "      <td>123.599970</td>\n",
       "      <td>123.599970</td>\n",
       "      <td>-33.599970</td>\n",
       "      <td>-33.599970</td>\n",
       "      <td>140.999548</td>\n",
       "      <td>-3.463729</td>\n",
       "    </tr>\n",
       "    <tr>\n",
       "      <th>2018-01-01 04:00:00-04:00</th>\n",
       "      <td>113.826480</td>\n",
       "      <td>113.826480</td>\n",
       "      <td>-23.826480</td>\n",
       "      <td>-23.826480</td>\n",
       "      <td>129.865373</td>\n",
       "      <td>-3.483303</td>\n",
       "    </tr>\n",
       "  </tbody>\n",
       "</table>\n",
       "</div>"
      ],
      "text/plain": [
       "                           apparent_zenith      zenith  apparent_elevation  \\\n",
       "datetime                                                                     \n",
       "2018-01-01 00:00:00-04:00       133.733485  133.733485          -43.733485   \n",
       "2018-01-01 01:00:00-04:00       134.597476  134.597476          -44.597476   \n",
       "2018-01-01 02:00:00-04:00       130.925969  130.925969          -40.925969   \n",
       "2018-01-01 03:00:00-04:00       123.599970  123.599970          -33.599970   \n",
       "2018-01-01 04:00:00-04:00       113.826480  113.826480          -23.826480   \n",
       "\n",
       "                           elevation     azimuth  equation_of_time  \n",
       "datetime                                                            \n",
       "2018-01-01 00:00:00-04:00 -43.733485  193.132186         -3.404951  \n",
       "2018-01-01 01:00:00-04:00 -44.597476  173.892446         -3.424553  \n",
       "2018-01-01 02:00:00-04:00 -40.925969  155.732051         -3.444146  \n",
       "2018-01-01 03:00:00-04:00 -33.599970  140.999548         -3.463729  \n",
       "2018-01-01 04:00:00-04:00 -23.826480  129.865373         -3.483303  "
      ]
     },
     "execution_count": 15,
     "metadata": {},
     "output_type": "execute_result"
    }
   ],
   "source": [
    "location.get_solarposition(times=times).head()"
   ]
  },
  {
   "cell_type": "code",
   "execution_count": 16,
   "metadata": {},
   "outputs": [],
   "source": [
    "# get the module and inverter specifications from SAM\n",
    "sandia_modules = pvlib.pvsystem.retrieve_sam('CECmod')\n",
    "sapm_inverters = pvlib.pvsystem.retrieve_sam('SandiaInverter')\n",
    "\n",
    "# module = sandia_modules['Canadian_Solar_CS5P_220M___2009_']\n",
    "# inverter = sapm_inverters['ABB__MICRO_0_25_I_OUTD_US_208_208V__CEC_2014_']"
   ]
  },
  {
   "cell_type": "code",
   "execution_count": 17,
   "metadata": {},
   "outputs": [
    {
     "data": {
      "text/html": [
       "<div>\n",
       "<style scoped>\n",
       "    .dataframe tbody tr th:only-of-type {\n",
       "        vertical-align: middle;\n",
       "    }\n",
       "\n",
       "    .dataframe tbody tr th {\n",
       "        vertical-align: top;\n",
       "    }\n",
       "\n",
       "    .dataframe thead th {\n",
       "        text-align: right;\n",
       "    }\n",
       "</style>\n",
       "<table border=\"1\" class=\"dataframe\">\n",
       "  <thead>\n",
       "    <tr style=\"text-align: right;\">\n",
       "      <th></th>\n",
       "      <th>Vac</th>\n",
       "      <th>Paco</th>\n",
       "      <th>Pdco</th>\n",
       "      <th>Vdco</th>\n",
       "      <th>Pso</th>\n",
       "      <th>C0</th>\n",
       "      <th>C1</th>\n",
       "      <th>C2</th>\n",
       "      <th>C3</th>\n",
       "      <th>Pnt</th>\n",
       "      <th>Vdcmax</th>\n",
       "      <th>Idcmax</th>\n",
       "      <th>Mppt_low</th>\n",
       "      <th>Mppt_high</th>\n",
       "    </tr>\n",
       "  </thead>\n",
       "  <tbody>\n",
       "    <tr>\n",
       "      <th>ABB__MICRO_0_25_I_OUTD_US_208_208V__CEC_2014_</th>\n",
       "      <td>208.0</td>\n",
       "      <td>250.0</td>\n",
       "      <td>259.522050</td>\n",
       "      <td>40.242603</td>\n",
       "      <td>1.771614</td>\n",
       "      <td>-0.000025</td>\n",
       "      <td>-0.000090</td>\n",
       "      <td>0.000669</td>\n",
       "      <td>-0.018900</td>\n",
       "      <td>0.02</td>\n",
       "      <td>65.0</td>\n",
       "      <td>10.00000</td>\n",
       "      <td>20.0</td>\n",
       "      <td>50.0</td>\n",
       "    </tr>\n",
       "    <tr>\n",
       "      <th>ABB__MICRO_0_25_I_OUTD_US_208__208V__208V__CEC_2018_</th>\n",
       "      <td>208.0</td>\n",
       "      <td>250.0</td>\n",
       "      <td>259.589000</td>\n",
       "      <td>40.000000</td>\n",
       "      <td>2.089610</td>\n",
       "      <td>-0.000041</td>\n",
       "      <td>-0.000091</td>\n",
       "      <td>0.000494</td>\n",
       "      <td>-0.013171</td>\n",
       "      <td>0.02</td>\n",
       "      <td>50.0</td>\n",
       "      <td>6.48971</td>\n",
       "      <td>30.0</td>\n",
       "      <td>50.0</td>\n",
       "    </tr>\n",
       "    <tr>\n",
       "      <th>ABB__MICRO_0_25_I_OUTD_US_240_240V__CEC_2014_</th>\n",
       "      <td>240.0</td>\n",
       "      <td>250.0</td>\n",
       "      <td>259.552697</td>\n",
       "      <td>39.982246</td>\n",
       "      <td>1.931194</td>\n",
       "      <td>-0.000027</td>\n",
       "      <td>-0.000158</td>\n",
       "      <td>0.001480</td>\n",
       "      <td>-0.034600</td>\n",
       "      <td>0.05</td>\n",
       "      <td>65.0</td>\n",
       "      <td>10.00000</td>\n",
       "      <td>20.0</td>\n",
       "      <td>50.0</td>\n",
       "    </tr>\n",
       "    <tr>\n",
       "      <th>ABB__MICRO_0_25_I_OUTD_US_240__240V__240V__CEC_2018_</th>\n",
       "      <td>240.0</td>\n",
       "      <td>250.0</td>\n",
       "      <td>259.492000</td>\n",
       "      <td>40.000000</td>\n",
       "      <td>2.240410</td>\n",
       "      <td>-0.000039</td>\n",
       "      <td>-0.000132</td>\n",
       "      <td>0.002418</td>\n",
       "      <td>-0.014926</td>\n",
       "      <td>0.05</td>\n",
       "      <td>50.0</td>\n",
       "      <td>6.48730</td>\n",
       "      <td>30.0</td>\n",
       "      <td>50.0</td>\n",
       "    </tr>\n",
       "    <tr>\n",
       "      <th>ABB__MICRO_0_3_I_OUTD_US_208_208V__CEC_2014_</th>\n",
       "      <td>208.0</td>\n",
       "      <td>300.0</td>\n",
       "      <td>311.714554</td>\n",
       "      <td>40.227111</td>\n",
       "      <td>1.971053</td>\n",
       "      <td>-0.000036</td>\n",
       "      <td>-0.000256</td>\n",
       "      <td>-0.000833</td>\n",
       "      <td>-0.039100</td>\n",
       "      <td>0.02</td>\n",
       "      <td>65.0</td>\n",
       "      <td>10.00000</td>\n",
       "      <td>30.0</td>\n",
       "      <td>50.0</td>\n",
       "    </tr>\n",
       "  </tbody>\n",
       "</table>\n",
       "</div>"
      ],
      "text/plain": [
       "                                                      Vac   Paco        Pdco  \\\n",
       "ABB__MICRO_0_25_I_OUTD_US_208_208V__CEC_2014_       208.0  250.0  259.522050   \n",
       "ABB__MICRO_0_25_I_OUTD_US_208__208V__208V__CEC_...  208.0  250.0  259.589000   \n",
       "ABB__MICRO_0_25_I_OUTD_US_240_240V__CEC_2014_       240.0  250.0  259.552697   \n",
       "ABB__MICRO_0_25_I_OUTD_US_240__240V__240V__CEC_...  240.0  250.0  259.492000   \n",
       "ABB__MICRO_0_3_I_OUTD_US_208_208V__CEC_2014_        208.0  300.0  311.714554   \n",
       "\n",
       "                                                         Vdco       Pso  \\\n",
       "ABB__MICRO_0_25_I_OUTD_US_208_208V__CEC_2014_       40.242603  1.771614   \n",
       "ABB__MICRO_0_25_I_OUTD_US_208__208V__208V__CEC_...  40.000000  2.089610   \n",
       "ABB__MICRO_0_25_I_OUTD_US_240_240V__CEC_2014_       39.982246  1.931194   \n",
       "ABB__MICRO_0_25_I_OUTD_US_240__240V__240V__CEC_...  40.000000  2.240410   \n",
       "ABB__MICRO_0_3_I_OUTD_US_208_208V__CEC_2014_        40.227111  1.971053   \n",
       "\n",
       "                                                          C0        C1  \\\n",
       "ABB__MICRO_0_25_I_OUTD_US_208_208V__CEC_2014_      -0.000025 -0.000090   \n",
       "ABB__MICRO_0_25_I_OUTD_US_208__208V__208V__CEC_... -0.000041 -0.000091   \n",
       "ABB__MICRO_0_25_I_OUTD_US_240_240V__CEC_2014_      -0.000027 -0.000158   \n",
       "ABB__MICRO_0_25_I_OUTD_US_240__240V__240V__CEC_... -0.000039 -0.000132   \n",
       "ABB__MICRO_0_3_I_OUTD_US_208_208V__CEC_2014_       -0.000036 -0.000256   \n",
       "\n",
       "                                                          C2        C3   Pnt  \\\n",
       "ABB__MICRO_0_25_I_OUTD_US_208_208V__CEC_2014_       0.000669 -0.018900  0.02   \n",
       "ABB__MICRO_0_25_I_OUTD_US_208__208V__208V__CEC_...  0.000494 -0.013171  0.02   \n",
       "ABB__MICRO_0_25_I_OUTD_US_240_240V__CEC_2014_       0.001480 -0.034600  0.05   \n",
       "ABB__MICRO_0_25_I_OUTD_US_240__240V__240V__CEC_...  0.002418 -0.014926  0.05   \n",
       "ABB__MICRO_0_3_I_OUTD_US_208_208V__CEC_2014_       -0.000833 -0.039100  0.02   \n",
       "\n",
       "                                                    Vdcmax    Idcmax  \\\n",
       "ABB__MICRO_0_25_I_OUTD_US_208_208V__CEC_2014_         65.0  10.00000   \n",
       "ABB__MICRO_0_25_I_OUTD_US_208__208V__208V__CEC_...    50.0   6.48971   \n",
       "ABB__MICRO_0_25_I_OUTD_US_240_240V__CEC_2014_         65.0  10.00000   \n",
       "ABB__MICRO_0_25_I_OUTD_US_240__240V__240V__CEC_...    50.0   6.48730   \n",
       "ABB__MICRO_0_3_I_OUTD_US_208_208V__CEC_2014_          65.0  10.00000   \n",
       "\n",
       "                                                    Mppt_low  Mppt_high  \n",
       "ABB__MICRO_0_25_I_OUTD_US_208_208V__CEC_2014_           20.0       50.0  \n",
       "ABB__MICRO_0_25_I_OUTD_US_208__208V__208V__CEC_...      30.0       50.0  \n",
       "ABB__MICRO_0_25_I_OUTD_US_240_240V__CEC_2014_           20.0       50.0  \n",
       "ABB__MICRO_0_25_I_OUTD_US_240__240V__240V__CEC_...      30.0       50.0  \n",
       "ABB__MICRO_0_3_I_OUTD_US_208_208V__CEC_2014_            30.0       50.0  "
      ]
     },
     "execution_count": 17,
     "metadata": {},
     "output_type": "execute_result"
    }
   ],
   "source": [
    "sapm_inverters.T.head()"
   ]
  },
  {
   "cell_type": "code",
   "execution_count": 18,
   "metadata": {},
   "outputs": [],
   "source": [
    "for l in list(sapm_inverters.columns):\n",
    "    if 'memc' in l.lower() and '315' in l.lower():\n",
    "        print(l)"
   ]
  },
  {
   "cell_type": "code",
   "execution_count": 19,
   "metadata": {},
   "outputs": [
    {
     "name": "stdout",
     "output_type": "stream",
     "text": [
      "MEMC_Singapore_MEMC_M315BZC_3Y\n",
      "MEMC_Singapore_MEMC_Q315ACC_34\n",
      "MEMC_Singapore_MEMC_Q315ACC_35\n",
      "MEMC_Singapore_MEMC_Q315ACC_36\n",
      "MEMC_Singapore_MEMC_Q315AEC_34\n",
      "MEMC_Singapore_MEMC_Q315AEC_35\n",
      "MEMC_Singapore_MEMC_Q315AEC_36\n",
      "MEMC_Singapore_MEMC_Q315AMC_34\n",
      "MEMC_Singapore_MEMC_Q315AMC_35\n",
      "MEMC_Singapore_MEMC_Q315AMC_36\n",
      "MEMC_Singapore_MEMC_Q315BZC_3Y\n",
      "MEMC_Singapore_SE_F315BZC_3Y\n",
      "MEMC_Singapore_SE_M315BZC_3Y\n"
     ]
    }
   ],
   "source": [
    "for l in list(sandia_modules.columns):\n",
    "    if 'memc' in l.lower() and '315' in l.lower():\n",
    "        print(l)"
   ]
  },
  {
   "cell_type": "markdown",
   "metadata": {},
   "source": [
    "Pretty close to what we want"
   ]
  },
  {
   "cell_type": "code",
   "execution_count": 20,
   "metadata": {},
   "outputs": [
    {
     "data": {
      "text/plain": [
       "BIPV                  N\n",
       "Date          1/14/2013\n",
       "T_NOCT             47.1\n",
       "A_c               1.956\n",
       "N_s                  72\n",
       "I_sc_ref           9.07\n",
       "V_oc_ref          45.68\n",
       "I_mp_ref           8.64\n",
       "V_mp_ref           36.7\n",
       "alpha_sc       0.006349\n",
       "beta_oc        -0.16262\n",
       "a_ref            1.9843\n",
       "I_L_ref           9.162\n",
       "I_o_ref         9.2e-10\n",
       "R_s               0.377\n",
       "R_sh_ref        4310.23\n",
       "Adjust            10.28\n",
       "gamma_r           -0.48\n",
       "Version          NRELv1\n",
       "PTC               280.5\n",
       "Technology    Mono-c-Si\n",
       "Name: MEMC_Singapore_MEMC_M315BZC_3Y, dtype: object"
      ]
     },
     "execution_count": 20,
     "metadata": {},
     "output_type": "execute_result"
    }
   ],
   "source": [
    "module = sandia_modules['MEMC_Singapore_MEMC_M315BZC_3Y']; module"
   ]
  },
  {
   "cell_type": "code",
   "execution_count": 22,
   "metadata": {},
   "outputs": [],
   "source": [
    "system = PVSystem(module_parameters=module,\n",
    "                  modules_per_string=18,\n",
    "                  strings_per_inverter=250,\n",
    "                  albedo=0.35)"
   ]
  },
  {
   "cell_type": "code",
   "execution_count": 23,
   "metadata": {},
   "outputs": [
    {
     "ename": "ValueError",
     "evalue": "could not infer AC model from system.inverter_parameters. Check system.inverter_parameters or explicitly set the model with the ac_model kwarg.",
     "output_type": "error",
     "traceback": [
      "\u001b[1;31m---------------------------------------------------------------------------\u001b[0m",
      "\u001b[1;31mValueError\u001b[0m                                Traceback (most recent call last)",
      "\u001b[1;32m<ipython-input-23-60d80f6031c5>\u001b[0m in \u001b[0;36m<module>\u001b[1;34m\u001b[0m\n\u001b[0;32m      2\u001b[0m                 \u001b[0mdcmodel\u001b[0m\u001b[1;33m=\u001b[0m\u001b[1;34m'desoto'\u001b[0m\u001b[1;33m,\u001b[0m\u001b[1;33m\u001b[0m\u001b[1;33m\u001b[0m\u001b[0m\n\u001b[0;32m      3\u001b[0m                 \u001b[0macmodel\u001b[0m\u001b[1;33m=\u001b[0m\u001b[1;34m'snlinverter'\u001b[0m\u001b[1;33m,\u001b[0m\u001b[1;33m\u001b[0m\u001b[1;33m\u001b[0m\u001b[0m\n\u001b[1;32m----> 4\u001b[1;33m                 orientation_strategy='None')\n\u001b[0m",
      "\u001b[1;32m~\\AppData\\Local\\Continuum\\miniconda3\\envs\\pvfactors\\lib\\site-packages\\pvlib\\modelchain.py\u001b[0m in \u001b[0;36m__init__\u001b[1;34m(self, system, location, orientation_strategy, clearsky_model, transposition_model, solar_position_method, airmass_model, dc_model, ac_model, aoi_model, spectral_model, temp_model, losses_model, name, **kwargs)\u001b[0m\n\u001b[0;32m    309\u001b[0m         \u001b[1;31m# calls setters\u001b[0m\u001b[1;33m\u001b[0m\u001b[1;33m\u001b[0m\u001b[1;33m\u001b[0m\u001b[0m\n\u001b[0;32m    310\u001b[0m         \u001b[0mself\u001b[0m\u001b[1;33m.\u001b[0m\u001b[0mdc_model\u001b[0m \u001b[1;33m=\u001b[0m \u001b[0mdc_model\u001b[0m\u001b[1;33m\u001b[0m\u001b[1;33m\u001b[0m\u001b[0m\n\u001b[1;32m--> 311\u001b[1;33m         \u001b[0mself\u001b[0m\u001b[1;33m.\u001b[0m\u001b[0mac_model\u001b[0m \u001b[1;33m=\u001b[0m \u001b[0mac_model\u001b[0m\u001b[1;33m\u001b[0m\u001b[1;33m\u001b[0m\u001b[0m\n\u001b[0m\u001b[0;32m    312\u001b[0m         \u001b[0mself\u001b[0m\u001b[1;33m.\u001b[0m\u001b[0maoi_model\u001b[0m \u001b[1;33m=\u001b[0m \u001b[0maoi_model\u001b[0m\u001b[1;33m\u001b[0m\u001b[1;33m\u001b[0m\u001b[0m\n\u001b[0;32m    313\u001b[0m         \u001b[0mself\u001b[0m\u001b[1;33m.\u001b[0m\u001b[0mspectral_model\u001b[0m \u001b[1;33m=\u001b[0m \u001b[0mspectral_model\u001b[0m\u001b[1;33m\u001b[0m\u001b[1;33m\u001b[0m\u001b[0m\n",
      "\u001b[1;32m~\\AppData\\Local\\Continuum\\miniconda3\\envs\\pvfactors\\lib\\site-packages\\pvlib\\modelchain.py\u001b[0m in \u001b[0;36mac_model\u001b[1;34m(self, model)\u001b[0m\n\u001b[0;32m    511\u001b[0m     \u001b[1;32mdef\u001b[0m \u001b[0mac_model\u001b[0m\u001b[1;33m(\u001b[0m\u001b[0mself\u001b[0m\u001b[1;33m,\u001b[0m \u001b[0mmodel\u001b[0m\u001b[1;33m)\u001b[0m\u001b[1;33m:\u001b[0m\u001b[1;33m\u001b[0m\u001b[1;33m\u001b[0m\u001b[0m\n\u001b[0;32m    512\u001b[0m         \u001b[1;32mif\u001b[0m \u001b[0mmodel\u001b[0m \u001b[1;32mis\u001b[0m \u001b[1;32mNone\u001b[0m\u001b[1;33m:\u001b[0m\u001b[1;33m\u001b[0m\u001b[1;33m\u001b[0m\u001b[0m\n\u001b[1;32m--> 513\u001b[1;33m             \u001b[0mself\u001b[0m\u001b[1;33m.\u001b[0m\u001b[0m_ac_model\u001b[0m \u001b[1;33m=\u001b[0m \u001b[0mself\u001b[0m\u001b[1;33m.\u001b[0m\u001b[0minfer_ac_model\u001b[0m\u001b[1;33m(\u001b[0m\u001b[1;33m)\u001b[0m\u001b[1;33m\u001b[0m\u001b[1;33m\u001b[0m\u001b[0m\n\u001b[0m\u001b[0;32m    514\u001b[0m         \u001b[1;32melif\u001b[0m \u001b[0misinstance\u001b[0m\u001b[1;33m(\u001b[0m\u001b[0mmodel\u001b[0m\u001b[1;33m,\u001b[0m \u001b[0mstr\u001b[0m\u001b[1;33m)\u001b[0m\u001b[1;33m:\u001b[0m\u001b[1;33m\u001b[0m\u001b[1;33m\u001b[0m\u001b[0m\n\u001b[0;32m    515\u001b[0m             \u001b[0mmodel\u001b[0m \u001b[1;33m=\u001b[0m \u001b[0mmodel\u001b[0m\u001b[1;33m.\u001b[0m\u001b[0mlower\u001b[0m\u001b[1;33m(\u001b[0m\u001b[1;33m)\u001b[0m\u001b[1;33m\u001b[0m\u001b[1;33m\u001b[0m\u001b[0m\n",
      "\u001b[1;32m~\\AppData\\Local\\Continuum\\miniconda3\\envs\\pvfactors\\lib\\site-packages\\pvlib\\modelchain.py\u001b[0m in \u001b[0;36minfer_ac_model\u001b[1;34m(self)\u001b[0m\n\u001b[0;32m    535\u001b[0m             \u001b[1;32mreturn\u001b[0m \u001b[0mself\u001b[0m\u001b[1;33m.\u001b[0m\u001b[0mpvwatts_inverter\u001b[0m\u001b[1;33m\u001b[0m\u001b[1;33m\u001b[0m\u001b[0m\n\u001b[0;32m    536\u001b[0m         \u001b[1;32melse\u001b[0m\u001b[1;33m:\u001b[0m\u001b[1;33m\u001b[0m\u001b[1;33m\u001b[0m\u001b[0m\n\u001b[1;32m--> 537\u001b[1;33m             raise ValueError('could not infer AC model from '\n\u001b[0m\u001b[0;32m    538\u001b[0m                              \u001b[1;34m'system.inverter_parameters. Check '\u001b[0m\u001b[1;33m\u001b[0m\u001b[1;33m\u001b[0m\u001b[0m\n\u001b[0;32m    539\u001b[0m                              \u001b[1;34m'system.inverter_parameters or explicitly '\u001b[0m\u001b[1;33m\u001b[0m\u001b[1;33m\u001b[0m\u001b[0m\n",
      "\u001b[1;31mValueError\u001b[0m: could not infer AC model from system.inverter_parameters. Check system.inverter_parameters or explicitly set the model with the ac_model kwarg."
     ]
    }
   ],
   "source": [
    "mc = ModelChain(system, location,\n",
    "                dcmodel='desoto',\n",
    "                acmodel='snlinverter',\n",
    "                orientation_strategy='None')"
   ]
  }
 ],
 "metadata": {
  "kernelspec": {
   "display_name": "Python 3",
   "language": "python",
   "name": "python3"
  },
  "language_info": {
   "codemirror_mode": {
    "name": "ipython",
    "version": 3
   },
   "file_extension": ".py",
   "mimetype": "text/x-python",
   "name": "python",
   "nbconvert_exporter": "python",
   "pygments_lexer": "ipython3",
   "version": "3.7.3"
  }
 },
 "nbformat": 4,
 "nbformat_minor": 2
}
