{
 "cells": [
  {
   "cell_type": "code",
   "execution_count": 1,
   "metadata": {},
   "outputs": [],
   "source": [
    "%load_ext autoreload\n",
    "%autoreload 2"
   ]
  },
  {
   "cell_type": "code",
   "execution_count": 2,
   "metadata": {},
   "outputs": [],
   "source": [
    "# Import external libraries\n",
    "import numpy as np\n",
    "import pandas as pd\n",
    "from pathlib import Path\n",
    "from parallel_run import *\n",
    "from utils import *\n",
    "# Settings\n",
    "%matplotlib inline\n",
    "np.set_printoptions(precision=3)"
   ]
  },
  {
   "cell_type": "markdown",
   "metadata": {},
   "source": [
    "## Simple yet powerful irradiance toolbox\n",
    "ViewFactors simulation in 2D.\n",
    "\n",
    "I will focus on the simulation of irradiance in-plane of array (front and back faces). Simulation of the phisical inverter technology is already well known and available."
   ]
  },
  {
   "cell_type": "markdown",
   "metadata": {},
   "source": [
    "# Cadarache"
   ]
  },
  {
   "cell_type": "markdown",
   "metadata": {},
   "source": [
    "## Fix"
   ]
  },
  {
   "cell_type": "code",
   "execution_count": 8,
   "metadata": {},
   "outputs": [],
   "source": [
    "PATH = Path('../data')\n",
    "tmy_file = PATH/'Cadarache.csv'\n",
    "xls_file = PATH/'3d_VF_model_output.xlsx'  #output of the 3d VF simulations"
   ]
  },
  {
   "cell_type": "code",
   "execution_count": 9,
   "metadata": {},
   "outputs": [],
   "source": [
    "cadarache_fix_3d = pd.read_excel(xls_file, header=10, index_col=0, usecols=list(range(1,14)), nrows=9).T"
   ]
  },
  {
   "cell_type": "code",
   "execution_count": 11,
   "metadata": {},
   "outputs": [],
   "source": [
    "cadarache_tracked_3d = pd.read_excel(xls_file, header=10+12, index_col=0, usecols=list(range(1,14)), nrows=9).T"
   ]
  },
  {
   "cell_type": "markdown",
   "metadata": {},
   "source": [
    "Here we define the system to simulate, we have to enter the phisical parameters of the geometry and the material condition of the ground and modules.\n",
    "- `h_ground=1` : is the height from the ground for the bottom module for fixed system, or the axis height for tracked systems.\n",
    "- `n_modules_vertically=2` : The number of modules stacked in landsacape but vertically.\n",
    "- `module_size=(1.69, 1.01)` : The module dimesions\n",
    "- `surface_tilt=38` : The tilt of the fixed config in degrees.\n",
    "- `axis_azimuth=0,` : The axis orientation, 0 is north, measured in degrees clockwise. \n",
    "- `surface_azimuth=180` : The surface roientation, 180 is facing south.\n",
    "- `n_pvrows=1` : How many rows are we modelling.\n",
    "- `tracking=False`: If we want to track. (backtracking is supported)\n",
    "- `gcr=0.5` : As we don't define distance between rows, ground coverage ratio is computed from:\n",
    "$$gcr = \\frac{\\text{footprint}}{\\text{distance_between_rows}}$$"
   ]
  },
  {
   "cell_type": "code",
   "execution_count": 13,
   "metadata": {},
   "outputs": [
    {
     "data": {
      "text/plain": [
       "{'n_pvrows': 1,\n",
       " 'pvrow_height': 1.6218180900789148,\n",
       " 'pvrow_width': 2.02,\n",
       " 'tracking': False,\n",
       " 'axis_azimuth': 0,\n",
       " 'surface_tilt': 38,\n",
       " 'surface_azimuth': 180,\n",
       " 'albedo': 0.4,\n",
       " 'gcr': 0.5,\n",
       " 'rho_front_pvrow': 0.075,\n",
       " 'rho_back_pvrow': 0.075,\n",
       " 'cut': {0: {'front': 3, 'back': 6}}}"
      ]
     },
     "execution_count": 13,
     "metadata": {},
     "output_type": "execute_result"
    }
   ],
   "source": [
    "pvarray_parameters = system_def(h_ground=1); pvarray_parameters"
   ]
  },
  {
   "cell_type": "markdown",
   "metadata": {},
   "source": [
    "We construct the necesarry data from the tmy file, and a sun position model, we also compute the optimal tracking if `tracked=True`.\n",
    "We could also make more precise simulation using data with a infer timestep."
   ]
  },
  {
   "cell_type": "code",
   "execution_count": 14,
   "metadata": {},
   "outputs": [
    {
     "name": "stderr",
     "output_type": "stream",
     "text": [
      "INFO:parallel_run:Correcting 220 indexes, Total GHI discarded = 169.0\n"
     ]
    },
    {
     "data": {
      "text/html": [
       "<div>\n",
       "<style scoped>\n",
       "    .dataframe tbody tr th:only-of-type {\n",
       "        vertical-align: middle;\n",
       "    }\n",
       "\n",
       "    .dataframe tbody tr th {\n",
       "        vertical-align: top;\n",
       "    }\n",
       "\n",
       "    .dataframe thead th {\n",
       "        text-align: right;\n",
       "    }\n",
       "</style>\n",
       "<table border=\"1\" class=\"dataframe\">\n",
       "  <thead>\n",
       "    <tr style=\"text-align: right;\">\n",
       "      <th></th>\n",
       "      <th>ghi</th>\n",
       "      <th>dni</th>\n",
       "      <th>dhi</th>\n",
       "      <th>zenith</th>\n",
       "      <th>azimuth</th>\n",
       "      <th>surface_tilt</th>\n",
       "      <th>surface_azimuth</th>\n",
       "      <th>albedo</th>\n",
       "    </tr>\n",
       "    <tr>\n",
       "      <th>datetime</th>\n",
       "      <th></th>\n",
       "      <th></th>\n",
       "      <th></th>\n",
       "      <th></th>\n",
       "      <th></th>\n",
       "      <th></th>\n",
       "      <th></th>\n",
       "      <th></th>\n",
       "    </tr>\n",
       "  </thead>\n",
       "  <tbody>\n",
       "    <tr>\n",
       "      <th>2018-01-01 00:00:00</th>\n",
       "      <td>0.0</td>\n",
       "      <td>-0.0</td>\n",
       "      <td>0.0</td>\n",
       "      <td>158.936959</td>\n",
       "      <td>12.696340</td>\n",
       "      <td>38</td>\n",
       "      <td>180</td>\n",
       "      <td>0.4</td>\n",
       "    </tr>\n",
       "    <tr>\n",
       "      <th>2018-01-01 01:00:00</th>\n",
       "      <td>0.0</td>\n",
       "      <td>-0.0</td>\n",
       "      <td>0.0</td>\n",
       "      <td>153.612487</td>\n",
       "      <td>44.870203</td>\n",
       "      <td>38</td>\n",
       "      <td>180</td>\n",
       "      <td>0.4</td>\n",
       "    </tr>\n",
       "    <tr>\n",
       "      <th>2018-01-01 02:00:00</th>\n",
       "      <td>0.0</td>\n",
       "      <td>-0.0</td>\n",
       "      <td>0.0</td>\n",
       "      <td>144.668185</td>\n",
       "      <td>65.628521</td>\n",
       "      <td>38</td>\n",
       "      <td>180</td>\n",
       "      <td>0.4</td>\n",
       "    </tr>\n",
       "    <tr>\n",
       "      <th>2018-01-01 03:00:00</th>\n",
       "      <td>0.0</td>\n",
       "      <td>-0.0</td>\n",
       "      <td>0.0</td>\n",
       "      <td>134.318938</td>\n",
       "      <td>79.792082</td>\n",
       "      <td>38</td>\n",
       "      <td>180</td>\n",
       "      <td>0.4</td>\n",
       "    </tr>\n",
       "    <tr>\n",
       "      <th>2018-01-01 04:00:00</th>\n",
       "      <td>0.0</td>\n",
       "      <td>-0.0</td>\n",
       "      <td>0.0</td>\n",
       "      <td>123.524151</td>\n",
       "      <td>90.889563</td>\n",
       "      <td>38</td>\n",
       "      <td>180</td>\n",
       "      <td>0.4</td>\n",
       "    </tr>\n",
       "  </tbody>\n",
       "</table>\n",
       "</div>"
      ],
      "text/plain": [
       "                     ghi  dni  dhi      zenith    azimuth  surface_tilt  \\\n",
       "datetime                                                                  \n",
       "2018-01-01 00:00:00  0.0 -0.0  0.0  158.936959  12.696340            38   \n",
       "2018-01-01 01:00:00  0.0 -0.0  0.0  153.612487  44.870203            38   \n",
       "2018-01-01 02:00:00  0.0 -0.0  0.0  144.668185  65.628521            38   \n",
       "2018-01-01 03:00:00  0.0 -0.0  0.0  134.318938  79.792082            38   \n",
       "2018-01-01 04:00:00  0.0 -0.0  0.0  123.524151  90.889563            38   \n",
       "\n",
       "                     surface_azimuth  albedo  \n",
       "datetime                                      \n",
       "2018-01-01 00:00:00              180     0.4  \n",
       "2018-01-01 01:00:00              180     0.4  \n",
       "2018-01-01 02:00:00              180     0.4  \n",
       "2018-01-01 03:00:00              180     0.4  \n",
       "2018-01-01 04:00:00              180     0.4  "
      ]
     },
     "execution_count": 14,
     "metadata": {},
     "output_type": "execute_result"
    }
   ],
   "source": [
    "data_fix = get_data(tmy_file, pvarray_parameters); data_fix.head()"
   ]
  },
  {
   "cell_type": "markdown",
   "metadata": {},
   "source": [
    "We can see our system, with the shadows"
   ]
  },
  {
   "cell_type": "code",
   "execution_count": 15,
   "metadata": {},
   "outputs": [
    {
     "data": {
      "image/png": "[encoded data removed]",
      "text/plain": [
       "<Figure size 720x216 with 1 Axes>"
      ]
     },
     "metadata": {
      "needs_background": "light"
     },
     "output_type": "display_data"
    },
    {
     "data": {
      "text/plain": [
       "<pvfactors.geometry.pvarray.OrderedPVArray at 0x25d93a35358>"
      ]
     },
     "execution_count": 15,
     "metadata": {},
     "output_type": "execute_result"
    }
   ],
   "source": [
    "debug_pvarray(data_fix, pvarray_parameters)"
   ]
  },
  {
   "cell_type": "markdown",
   "metadata": {},
   "source": [
    "Compute the whole year, `parallel` is the number of process to launch."
   ]
  },
  {
   "cell_type": "code",
   "execution_count": 16,
   "metadata": {},
   "outputs": [
    {
     "name": "stderr",
     "output_type": "stream",
     "text": [
      "100%|███████████████████████████████████████████████████████████████████████████████████████████████████████████████████████████████████████████████████████████████████████████████████| 8760/8760 [00:24<00:00, 353.85it/s]\n"
     ]
    }
   ],
   "source": [
    "res = pv_engine_run(data_fix, pvarray_parameters, parallel=0)"
   ]
  },
  {
   "cell_type": "code",
   "execution_count": 17,
   "metadata": {},
   "outputs": [
    {
     "data": {
      "text/html": [
       "<div>\n",
       "<style scoped>\n",
       "    .dataframe tbody tr th:only-of-type {\n",
       "        vertical-align: middle;\n",
       "    }\n",
       "\n",
       "    .dataframe tbody tr th {\n",
       "        vertical-align: top;\n",
       "    }\n",
       "\n",
       "    .dataframe thead th {\n",
       "        text-align: right;\n",
       "    }\n",
       "</style>\n",
       "<table border=\"1\" class=\"dataframe\">\n",
       "  <thead>\n",
       "    <tr style=\"text-align: right;\">\n",
       "      <th></th>\n",
       "      <th>Janvier</th>\n",
       "      <th>Fevrier</th>\n",
       "      <th>Mars</th>\n",
       "      <th>Avril</th>\n",
       "      <th>Mai</th>\n",
       "      <th>Juin</th>\n",
       "      <th>Juillet</th>\n",
       "      <th>Août</th>\n",
       "      <th>Septembre</th>\n",
       "      <th>Octobre</th>\n",
       "      <th>Novembre</th>\n",
       "      <th>Décembre</th>\n",
       "    </tr>\n",
       "  </thead>\n",
       "  <tbody>\n",
       "    <tr>\n",
       "      <th>ghi</th>\n",
       "      <td>63.969450</td>\n",
       "      <td>72.105000</td>\n",
       "      <td>121.197050</td>\n",
       "      <td>155.664000</td>\n",
       "      <td>195.633900</td>\n",
       "      <td>230.522000</td>\n",
       "      <td>247.304000</td>\n",
       "      <td>207.249100</td>\n",
       "      <td>141.130000</td>\n",
       "      <td>97.297000</td>\n",
       "      <td>65.254000</td>\n",
       "      <td>51.640400</td>\n",
       "    </tr>\n",
       "    <tr>\n",
       "      <th>dhi</th>\n",
       "      <td>22.010150</td>\n",
       "      <td>30.376000</td>\n",
       "      <td>48.426900</td>\n",
       "      <td>58.706000</td>\n",
       "      <td>71.067350</td>\n",
       "      <td>70.765000</td>\n",
       "      <td>59.951000</td>\n",
       "      <td>59.468500</td>\n",
       "      <td>52.164000</td>\n",
       "      <td>36.824000</td>\n",
       "      <td>26.444000</td>\n",
       "      <td>19.814000</td>\n",
       "    </tr>\n",
       "    <tr>\n",
       "      <th>qinc_front</th>\n",
       "      <td>128.805992</td>\n",
       "      <td>116.385688</td>\n",
       "      <td>160.594003</td>\n",
       "      <td>177.367335</td>\n",
       "      <td>195.680118</td>\n",
       "      <td>220.342031</td>\n",
       "      <td>243.330219</td>\n",
       "      <td>226.377910</td>\n",
       "      <td>177.105247</td>\n",
       "      <td>145.228153</td>\n",
       "      <td>119.555980</td>\n",
       "      <td>109.606668</td>\n",
       "    </tr>\n",
       "    <tr>\n",
       "      <th>qinc_back_high</th>\n",
       "      <td>21.474096</td>\n",
       "      <td>24.481164</td>\n",
       "      <td>39.564397</td>\n",
       "      <td>50.125274</td>\n",
       "      <td>63.611987</td>\n",
       "      <td>72.600496</td>\n",
       "      <td>77.158276</td>\n",
       "      <td>65.016385</td>\n",
       "      <td>45.551445</td>\n",
       "      <td>32.015186</td>\n",
       "      <td>22.079369</td>\n",
       "      <td>17.649492</td>\n",
       "    </tr>\n",
       "    <tr>\n",
       "      <th>qinc_back_low</th>\n",
       "      <td>20.916360</td>\n",
       "      <td>23.759368</td>\n",
       "      <td>38.311828</td>\n",
       "      <td>47.810931</td>\n",
       "      <td>60.688329</td>\n",
       "      <td>68.866524</td>\n",
       "      <td>73.253864</td>\n",
       "      <td>62.025382</td>\n",
       "      <td>43.598433</td>\n",
       "      <td>30.988434</td>\n",
       "      <td>21.426182</td>\n",
       "      <td>17.282723</td>\n",
       "    </tr>\n",
       "    <tr>\n",
       "      <th>bf_gain</th>\n",
       "      <td>2.657563</td>\n",
       "      <td>3.770634</td>\n",
       "      <td>5.564069</td>\n",
       "      <td>7.208474</td>\n",
       "      <td>11.311869</td>\n",
       "      <td>11.035482</td>\n",
       "      <td>11.866229</td>\n",
       "      <td>9.423692</td>\n",
       "      <td>5.521312</td>\n",
       "      <td>4.584626</td>\n",
       "      <td>3.082357</td>\n",
       "      <td>2.553960</td>\n",
       "    </tr>\n",
       "  </tbody>\n",
       "</table>\n",
       "</div>"
      ],
      "text/plain": [
       "                   Janvier     Fevrier        Mars       Avril         Mai  \\\n",
       "ghi              63.969450   72.105000  121.197050  155.664000  195.633900   \n",
       "dhi              22.010150   30.376000   48.426900   58.706000   71.067350   \n",
       "qinc_front      128.805992  116.385688  160.594003  177.367335  195.680118   \n",
       "qinc_back_high   21.474096   24.481164   39.564397   50.125274   63.611987   \n",
       "qinc_back_low    20.916360   23.759368   38.311828   47.810931   60.688329   \n",
       "bf_gain           2.657563    3.770634    5.564069    7.208474   11.311869   \n",
       "\n",
       "                      Juin     Juillet        Août   Septembre     Octobre  \\\n",
       "ghi             230.522000  247.304000  207.249100  141.130000   97.297000   \n",
       "dhi              70.765000   59.951000   59.468500   52.164000   36.824000   \n",
       "qinc_front      220.342031  243.330219  226.377910  177.105247  145.228153   \n",
       "qinc_back_high   72.600496   77.158276   65.016385   45.551445   32.015186   \n",
       "qinc_back_low    68.866524   73.253864   62.025382   43.598433   30.988434   \n",
       "bf_gain          11.035482   11.866229    9.423692    5.521312    4.584626   \n",
       "\n",
       "                  Novembre    Décembre  \n",
       "ghi              65.254000   51.640400  \n",
       "dhi              26.444000   19.814000  \n",
       "qinc_front      119.555980  109.606668  \n",
       "qinc_back_high   22.079369   17.649492  \n",
       "qinc_back_low    21.426182   17.282723  \n",
       "bf_gain           3.082357    2.553960  "
      ]
     },
     "execution_count": 17,
     "metadata": {},
     "output_type": "execute_result"
    }
   ],
   "source": [
    "report = report_flo(data_fix, res); report.T"
   ]
  },
  {
   "cell_type": "code",
   "execution_count": 20,
   "metadata": {},
   "outputs": [
    {
     "data": {
      "text/plain": [
       "<matplotlib.axes._subplots.AxesSubplot at 0x25d94e830b8>"
      ]
     },
     "execution_count": 20,
     "metadata": {},
     "output_type": "execute_result"
    },
    {
     "data": {
      "image/png": "[encoded data removed]",
      "text/plain": [
       "<Figure size 432x288 with 1 Axes>"
      ]
     },
     "metadata": {
      "needs_background": "light"
     },
     "output_type": "display_data"
    }
   ],
   "source": [
    "report.qinc_front.plot.bar()"
   ]
  },
  {
   "cell_type": "markdown",
   "metadata": {},
   "source": [
    "We can also compare with a SoA (NREL pvlib) model that includes AOI losses, AirMass Losses:"
   ]
  },
  {
   "cell_type": "code",
   "execution_count": 21,
   "metadata": {},
   "outputs": [],
   "source": [
    "effective_irradiance = get_pvlib_eirrad(data_fix)\n",
    "eii = group_monthly(effective_irradiance)/1000\n",
    "eii_month =  reindex_monthly_fr(eii)"
   ]
  },
  {
   "cell_type": "code",
   "execution_count": 22,
   "metadata": {},
   "outputs": [
    {
     "data": {
      "image/png": "[encoded data removed]",
      "text/plain": [
       "<Figure size 864x360 with 1 Axes>"
      ]
     },
     "metadata": {
      "needs_background": "light"
     },
     "output_type": "display_data"
    }
   ],
   "source": [
    "ax = eii_month.plot.bar(figsize=(12,5), color='green')\n",
    "add_value_labels(ax, spacing=5)"
   ]
  },
  {
   "cell_type": "markdown",
   "metadata": {},
   "source": [
    "## Results comparison between 2d and 3 approach + NREL reference\n",
    "We will plot results of the 2d model against the 3d model (Florent Haffner), we add the NREL front face irradiation method."
   ]
  },
  {
   "cell_type": "code",
   "execution_count": 25,
   "metadata": {},
   "outputs": [
    {
     "data": {
      "image/png": "[encoded data removed]",
      "text/plain": [
       "<Figure size 864x864 with 2 Axes>"
      ]
     },
     "metadata": {
      "needs_background": "light"
     },
     "output_type": "display_data"
    }
   ],
   "source": [
    "plot_compare(data_fix, res, cadarache_fix_flo)"
   ]
  },
  {
   "cell_type": "markdown",
   "metadata": {},
   "source": [
    "Bifacial Gain"
   ]
  },
  {
   "cell_type": "code",
   "execution_count": 26,
   "metadata": {},
   "outputs": [
    {
     "data": {
      "image/png": "[encoded data removed]",
      "text/plain": [
       "<Figure size 864x360 with 1 Axes>"
      ]
     },
     "metadata": {
      "needs_background": "light"
     },
     "output_type": "display_data"
    }
   ],
   "source": [
    "plot_gain(res.qinc_front, res.qinc_back_high)"
   ]
  },
  {
   "cell_type": "markdown",
   "metadata": {},
   "source": [
    "## Tracked"
   ]
  },
  {
   "cell_type": "code",
   "execution_count": 27,
   "metadata": {},
   "outputs": [
    {
     "name": "stderr",
     "output_type": "stream",
     "text": [
      "INFO:parallel_run:Correcting 220 indexes, Total GHI discarded = 169.0\n",
      "C:\\Users\\tc256760\\AppData\\Local\\Continuum\\miniconda3\\envs\\pvfactors\\lib\\site-packages\\pvlib\\tracking.py:473: RuntimeWarning: invalid value encountered in arccos\n",
      "  aoi = np.degrees(np.arccos(np.abs(np.sum(sun_vec*panel_norm, axis=0))))\n",
      "C:\\Users\\tc256760\\AppData\\Local\\Continuum\\miniconda3\\envs\\pvfactors\\lib\\site-packages\\pvlib\\tracking.py:568: RuntimeWarning: invalid value encountered in remainder\n",
      "  surface_azimuth = surface_azimuth % 360\n",
      "C:\\Users\\tc256760\\AppData\\Local\\Continuum\\miniconda3\\envs\\pvfactors\\lib\\site-packages\\pvlib\\tracking.py:572: RuntimeWarning: invalid value encountered in arccos\n",
      "  surface_tilt = 90 - np.degrees(np.arccos(dotproduct))\n"
     ]
    },
    {
     "data": {
      "text/html": [
       "<div>\n",
       "<style scoped>\n",
       "    .dataframe tbody tr th:only-of-type {\n",
       "        vertical-align: middle;\n",
       "    }\n",
       "\n",
       "    .dataframe tbody tr th {\n",
       "        vertical-align: top;\n",
       "    }\n",
       "\n",
       "    .dataframe thead th {\n",
       "        text-align: right;\n",
       "    }\n",
       "</style>\n",
       "<table border=\"1\" class=\"dataframe\">\n",
       "  <thead>\n",
       "    <tr style=\"text-align: right;\">\n",
       "      <th></th>\n",
       "      <th>ghi</th>\n",
       "      <th>dni</th>\n",
       "      <th>dhi</th>\n",
       "      <th>zenith</th>\n",
       "      <th>azimuth</th>\n",
       "      <th>surface_tilt</th>\n",
       "      <th>surface_azimuth</th>\n",
       "      <th>albedo</th>\n",
       "    </tr>\n",
       "    <tr>\n",
       "      <th>datetime</th>\n",
       "      <th></th>\n",
       "      <th></th>\n",
       "      <th></th>\n",
       "      <th></th>\n",
       "      <th></th>\n",
       "      <th></th>\n",
       "      <th></th>\n",
       "      <th></th>\n",
       "    </tr>\n",
       "  </thead>\n",
       "  <tbody>\n",
       "    <tr>\n",
       "      <th>2018-12-21 00:00:00</th>\n",
       "      <td>0.0</td>\n",
       "      <td>-0.00</td>\n",
       "      <td>0.0</td>\n",
       "      <td>159.090894</td>\n",
       "      <td>16.399279</td>\n",
       "      <td>0.000000</td>\n",
       "      <td>0.0</td>\n",
       "      <td>0.4</td>\n",
       "    </tr>\n",
       "    <tr>\n",
       "      <th>2018-12-21 01:00:00</th>\n",
       "      <td>0.0</td>\n",
       "      <td>-0.00</td>\n",
       "      <td>0.0</td>\n",
       "      <td>153.233013</td>\n",
       "      <td>47.733179</td>\n",
       "      <td>0.000000</td>\n",
       "      <td>0.0</td>\n",
       "      <td>0.4</td>\n",
       "    </tr>\n",
       "    <tr>\n",
       "      <th>2018-12-21 02:00:00</th>\n",
       "      <td>0.0</td>\n",
       "      <td>-0.00</td>\n",
       "      <td>0.0</td>\n",
       "      <td>144.042100</td>\n",
       "      <td>67.655334</td>\n",
       "      <td>0.000000</td>\n",
       "      <td>0.0</td>\n",
       "      <td>0.4</td>\n",
       "    </tr>\n",
       "    <tr>\n",
       "      <th>2018-12-21 03:00:00</th>\n",
       "      <td>0.0</td>\n",
       "      <td>-0.00</td>\n",
       "      <td>0.0</td>\n",
       "      <td>133.601332</td>\n",
       "      <td>81.360488</td>\n",
       "      <td>0.000000</td>\n",
       "      <td>0.0</td>\n",
       "      <td>0.4</td>\n",
       "    </tr>\n",
       "    <tr>\n",
       "      <th>2018-12-21 04:00:00</th>\n",
       "      <td>0.0</td>\n",
       "      <td>-0.00</td>\n",
       "      <td>0.0</td>\n",
       "      <td>122.790399</td>\n",
       "      <td>92.227015</td>\n",
       "      <td>0.000000</td>\n",
       "      <td>0.0</td>\n",
       "      <td>0.4</td>\n",
       "    </tr>\n",
       "    <tr>\n",
       "      <th>2018-12-21 05:00:00</th>\n",
       "      <td>0.0</td>\n",
       "      <td>-0.00</td>\n",
       "      <td>0.0</td>\n",
       "      <td>112.044383</td>\n",
       "      <td>101.921823</td>\n",
       "      <td>0.000000</td>\n",
       "      <td>0.0</td>\n",
       "      <td>0.4</td>\n",
       "    </tr>\n",
       "    <tr>\n",
       "      <th>2018-12-21 06:00:00</th>\n",
       "      <td>0.0</td>\n",
       "      <td>-0.00</td>\n",
       "      <td>0.0</td>\n",
       "      <td>101.667364</td>\n",
       "      <td>111.367969</td>\n",
       "      <td>0.000000</td>\n",
       "      <td>0.0</td>\n",
       "      <td>0.4</td>\n",
       "    </tr>\n",
       "    <tr>\n",
       "      <th>2018-12-21 07:00:00</th>\n",
       "      <td>0.0</td>\n",
       "      <td>-0.00</td>\n",
       "      <td>0.0</td>\n",
       "      <td>91.952439</td>\n",
       "      <td>121.182568</td>\n",
       "      <td>0.000000</td>\n",
       "      <td>0.0</td>\n",
       "      <td>0.4</td>\n",
       "    </tr>\n",
       "    <tr>\n",
       "      <th>2018-12-21 08:00:00</th>\n",
       "      <td>113.0</td>\n",
       "      <td>509.90</td>\n",
       "      <td>41.0</td>\n",
       "      <td>83.240526</td>\n",
       "      <td>131.842583</td>\n",
       "      <td>80.960078</td>\n",
       "      <td>90.0</td>\n",
       "      <td>0.4</td>\n",
       "    </tr>\n",
       "    <tr>\n",
       "      <th>2018-12-21 09:00:00</th>\n",
       "      <td>239.0</td>\n",
       "      <td>648.00</td>\n",
       "      <td>70.0</td>\n",
       "      <td>75.951200</td>\n",
       "      <td>143.708099</td>\n",
       "      <td>67.083178</td>\n",
       "      <td>90.0</td>\n",
       "      <td>0.4</td>\n",
       "    </tr>\n",
       "    <tr>\n",
       "      <th>2018-12-21 10:00:00</th>\n",
       "      <td>325.0</td>\n",
       "      <td>662.97</td>\n",
       "      <td>97.0</td>\n",
       "      <td>70.576190</td>\n",
       "      <td>156.934641</td>\n",
       "      <td>48.011177</td>\n",
       "      <td>90.0</td>\n",
       "      <td>0.4</td>\n",
       "    </tr>\n",
       "    <tr>\n",
       "      <th>2018-12-21 11:00:00</th>\n",
       "      <td>385.0</td>\n",
       "      <td>779.52</td>\n",
       "      <td>85.0</td>\n",
       "      <td>67.604398</td>\n",
       "      <td>171.315414</td>\n",
       "      <td>20.123890</td>\n",
       "      <td>90.0</td>\n",
       "      <td>0.4</td>\n",
       "    </tr>\n",
       "    <tr>\n",
       "      <th>2018-12-21 12:00:00</th>\n",
       "      <td>382.0</td>\n",
       "      <td>790.35</td>\n",
       "      <td>81.0</td>\n",
       "      <td>67.369457</td>\n",
       "      <td>186.205864</td>\n",
       "      <td>14.536992</td>\n",
       "      <td>270.0</td>\n",
       "      <td>0.4</td>\n",
       "    </tr>\n",
       "    <tr>\n",
       "      <th>2018-12-21 13:00:00</th>\n",
       "      <td>328.0</td>\n",
       "      <td>782.76</td>\n",
       "      <td>68.0</td>\n",
       "      <td>69.900037</td>\n",
       "      <td>200.727365</td>\n",
       "      <td>44.042939</td>\n",
       "      <td>270.0</td>\n",
       "      <td>0.4</td>\n",
       "    </tr>\n",
       "    <tr>\n",
       "      <th>2018-12-21 14:00:00</th>\n",
       "      <td>224.0</td>\n",
       "      <td>698.02</td>\n",
       "      <td>55.0</td>\n",
       "      <td>74.905267</td>\n",
       "      <td>214.173262</td>\n",
       "      <td>64.350094</td>\n",
       "      <td>270.0</td>\n",
       "      <td>0.4</td>\n",
       "    </tr>\n",
       "    <tr>\n",
       "      <th>2018-12-21 15:00:00</th>\n",
       "      <td>90.0</td>\n",
       "      <td>504.94</td>\n",
       "      <td>31.0</td>\n",
       "      <td>81.910070</td>\n",
       "      <td>226.263151</td>\n",
       "      <td>78.870340</td>\n",
       "      <td>270.0</td>\n",
       "      <td>0.4</td>\n",
       "    </tr>\n",
       "    <tr>\n",
       "      <th>2018-12-21 16:00:00</th>\n",
       "      <td>0.0</td>\n",
       "      <td>-0.00</td>\n",
       "      <td>0.0</td>\n",
       "      <td>90.415660</td>\n",
       "      <td>237.103385</td>\n",
       "      <td>0.000000</td>\n",
       "      <td>0.0</td>\n",
       "      <td>0.4</td>\n",
       "    </tr>\n",
       "    <tr>\n",
       "      <th>2018-12-21 17:00:00</th>\n",
       "      <td>0.0</td>\n",
       "      <td>-0.00</td>\n",
       "      <td>0.0</td>\n",
       "      <td>99.988530</td>\n",
       "      <td>247.028723</td>\n",
       "      <td>0.000000</td>\n",
       "      <td>0.0</td>\n",
       "      <td>0.4</td>\n",
       "    </tr>\n",
       "    <tr>\n",
       "      <th>2018-12-21 18:00:00</th>\n",
       "      <td>0.0</td>\n",
       "      <td>-0.00</td>\n",
       "      <td>0.0</td>\n",
       "      <td>110.276042</td>\n",
       "      <td>256.498092</td>\n",
       "      <td>0.000000</td>\n",
       "      <td>0.0</td>\n",
       "      <td>0.4</td>\n",
       "    </tr>\n",
       "    <tr>\n",
       "      <th>2018-12-21 19:00:00</th>\n",
       "      <td>0.0</td>\n",
       "      <td>-0.00</td>\n",
       "      <td>0.0</td>\n",
       "      <td>120.980345</td>\n",
       "      <td>266.098251</td>\n",
       "      <td>0.000000</td>\n",
       "      <td>0.0</td>\n",
       "      <td>0.4</td>\n",
       "    </tr>\n",
       "    <tr>\n",
       "      <th>2018-12-21 20:00:00</th>\n",
       "      <td>0.0</td>\n",
       "      <td>-0.00</td>\n",
       "      <td>0.0</td>\n",
       "      <td>131.805074</td>\n",
       "      <td>276.680675</td>\n",
       "      <td>0.000000</td>\n",
       "      <td>0.0</td>\n",
       "      <td>0.4</td>\n",
       "    </tr>\n",
       "    <tr>\n",
       "      <th>2018-12-21 21:00:00</th>\n",
       "      <td>0.0</td>\n",
       "      <td>-0.00</td>\n",
       "      <td>0.0</td>\n",
       "      <td>142.350881</td>\n",
       "      <td>289.737662</td>\n",
       "      <td>0.000000</td>\n",
       "      <td>0.0</td>\n",
       "      <td>0.4</td>\n",
       "    </tr>\n",
       "    <tr>\n",
       "      <th>2018-12-21 22:00:00</th>\n",
       "      <td>0.0</td>\n",
       "      <td>-0.00</td>\n",
       "      <td>0.0</td>\n",
       "      <td>151.851068</td>\n",
       "      <td>308.272986</td>\n",
       "      <td>0.000000</td>\n",
       "      <td>0.0</td>\n",
       "      <td>0.4</td>\n",
       "    </tr>\n",
       "    <tr>\n",
       "      <th>2018-12-21 23:00:00</th>\n",
       "      <td>0.0</td>\n",
       "      <td>-0.00</td>\n",
       "      <td>0.0</td>\n",
       "      <td>158.488993</td>\n",
       "      <td>337.456820</td>\n",
       "      <td>0.000000</td>\n",
       "      <td>0.0</td>\n",
       "      <td>0.4</td>\n",
       "    </tr>\n",
       "  </tbody>\n",
       "</table>\n",
       "</div>"
      ],
      "text/plain": [
       "                       ghi     dni   dhi      zenith     azimuth  \\\n",
       "datetime                                                           \n",
       "2018-12-21 00:00:00    0.0   -0.00   0.0  159.090894   16.399279   \n",
       "2018-12-21 01:00:00    0.0   -0.00   0.0  153.233013   47.733179   \n",
       "2018-12-21 02:00:00    0.0   -0.00   0.0  144.042100   67.655334   \n",
       "2018-12-21 03:00:00    0.0   -0.00   0.0  133.601332   81.360488   \n",
       "2018-12-21 04:00:00    0.0   -0.00   0.0  122.790399   92.227015   \n",
       "2018-12-21 05:00:00    0.0   -0.00   0.0  112.044383  101.921823   \n",
       "2018-12-21 06:00:00    0.0   -0.00   0.0  101.667364  111.367969   \n",
       "2018-12-21 07:00:00    0.0   -0.00   0.0   91.952439  121.182568   \n",
       "2018-12-21 08:00:00  113.0  509.90  41.0   83.240526  131.842583   \n",
       "2018-12-21 09:00:00  239.0  648.00  70.0   75.951200  143.708099   \n",
       "2018-12-21 10:00:00  325.0  662.97  97.0   70.576190  156.934641   \n",
       "2018-12-21 11:00:00  385.0  779.52  85.0   67.604398  171.315414   \n",
       "2018-12-21 12:00:00  382.0  790.35  81.0   67.369457  186.205864   \n",
       "2018-12-21 13:00:00  328.0  782.76  68.0   69.900037  200.727365   \n",
       "2018-12-21 14:00:00  224.0  698.02  55.0   74.905267  214.173262   \n",
       "2018-12-21 15:00:00   90.0  504.94  31.0   81.910070  226.263151   \n",
       "2018-12-21 16:00:00    0.0   -0.00   0.0   90.415660  237.103385   \n",
       "2018-12-21 17:00:00    0.0   -0.00   0.0   99.988530  247.028723   \n",
       "2018-12-21 18:00:00    0.0   -0.00   0.0  110.276042  256.498092   \n",
       "2018-12-21 19:00:00    0.0   -0.00   0.0  120.980345  266.098251   \n",
       "2018-12-21 20:00:00    0.0   -0.00   0.0  131.805074  276.680675   \n",
       "2018-12-21 21:00:00    0.0   -0.00   0.0  142.350881  289.737662   \n",
       "2018-12-21 22:00:00    0.0   -0.00   0.0  151.851068  308.272986   \n",
       "2018-12-21 23:00:00    0.0   -0.00   0.0  158.488993  337.456820   \n",
       "\n",
       "                     surface_tilt  surface_azimuth  albedo  \n",
       "datetime                                                    \n",
       "2018-12-21 00:00:00      0.000000              0.0     0.4  \n",
       "2018-12-21 01:00:00      0.000000              0.0     0.4  \n",
       "2018-12-21 02:00:00      0.000000              0.0     0.4  \n",
       "2018-12-21 03:00:00      0.000000              0.0     0.4  \n",
       "2018-12-21 04:00:00      0.000000              0.0     0.4  \n",
       "2018-12-21 05:00:00      0.000000              0.0     0.4  \n",
       "2018-12-21 06:00:00      0.000000              0.0     0.4  \n",
       "2018-12-21 07:00:00      0.000000              0.0     0.4  \n",
       "2018-12-21 08:00:00     80.960078             90.0     0.4  \n",
       "2018-12-21 09:00:00     67.083178             90.0     0.4  \n",
       "2018-12-21 10:00:00     48.011177             90.0     0.4  \n",
       "2018-12-21 11:00:00     20.123890             90.0     0.4  \n",
       "2018-12-21 12:00:00     14.536992            270.0     0.4  \n",
       "2018-12-21 13:00:00     44.042939            270.0     0.4  \n",
       "2018-12-21 14:00:00     64.350094            270.0     0.4  \n",
       "2018-12-21 15:00:00     78.870340            270.0     0.4  \n",
       "2018-12-21 16:00:00      0.000000              0.0     0.4  \n",
       "2018-12-21 17:00:00      0.000000              0.0     0.4  \n",
       "2018-12-21 18:00:00      0.000000              0.0     0.4  \n",
       "2018-12-21 19:00:00      0.000000              0.0     0.4  \n",
       "2018-12-21 20:00:00      0.000000              0.0     0.4  \n",
       "2018-12-21 21:00:00      0.000000              0.0     0.4  \n",
       "2018-12-21 22:00:00      0.000000              0.0     0.4  \n",
       "2018-12-21 23:00:00      0.000000              0.0     0.4  "
      ]
     },
     "execution_count": 27,
     "metadata": {},
     "output_type": "execute_result"
    }
   ],
   "source": [
    "pvarray_parameters = system_def(h_ground=1.8, tracking=True)\n",
    "data_tracked = get_data(tmy_file, pvarray_parameters); data_tracked['21 Dec 2018']"
   ]
  },
  {
   "cell_type": "code",
   "execution_count": 28,
   "metadata": {},
   "outputs": [
    {
     "data": {
      "text/plain": [
       "<matplotlib.axes._subplots.AxesSubplot at 0x25d95369978>"
      ]
     },
     "execution_count": 28,
     "metadata": {},
     "output_type": "execute_result"
    },
    {
     "data": {
      "image/png": "[encoded data removed]",
      "text/plain": [
       "<Figure size 432x288 with 1 Axes>"
      ]
     },
     "metadata": {
      "needs_background": "light"
     },
     "output_type": "display_data"
    }
   ],
   "source": [
    "data_tracked['21 Dec 2018'].azimuth.plot()\n",
    "data_tracked['21 Dec 2018'].zenith.plot()"
   ]
  },
  {
   "cell_type": "code",
   "execution_count": 30,
   "metadata": {},
   "outputs": [
    {
     "name": "stderr",
     "output_type": "stream",
     "text": [
      "100%|███████████████████████████████████████████████████████████████████████████████████████████████████████████████████████████████████████████████████████████████████████████████████| 8760/8760 [00:25<00:00, 341.74it/s]\n"
     ]
    }
   ],
   "source": [
    "res2 = pv_engine_run(data_tracked, pvarray_parameters, parallel=0)"
   ]
  },
  {
   "cell_type": "code",
   "execution_count": 31,
   "metadata": {},
   "outputs": [
    {
     "data": {
      "image/png": "[encoded data removed]",
      "text/plain": [
       "<Figure size 864x864 with 2 Axes>"
      ]
     },
     "metadata": {
      "needs_background": "light"
     },
     "output_type": "display_data"
    }
   ],
   "source": [
    "plot_compare(data_tracked, res2, cadarache_tracked_flo)"
   ]
  },
  {
   "cell_type": "code",
   "execution_count": 32,
   "metadata": {},
   "outputs": [
    {
     "data": {
      "image/png": "[encoded data removed]",
      "text/plain": [
       "<Figure size 864x360 with 1 Axes>"
      ]
     },
     "metadata": {
      "needs_background": "light"
     },
     "output_type": "display_data"
    }
   ],
   "source": [
    "plot_gain(res2.qinc_front, res2.qinc_back_high)"
   ]
  },
  {
   "cell_type": "markdown",
   "metadata": {},
   "source": [
    "# A More realistic Example\n",
    "## Fix"
   ]
  },
  {
   "cell_type": "code",
   "execution_count": 33,
   "metadata": {},
   "outputs": [],
   "source": [
    "pvarray_parameters = system_def(h_ground=1, n_pvrows=3);"
   ]
  },
  {
   "cell_type": "code",
   "execution_count": 34,
   "metadata": {},
   "outputs": [
    {
     "data": {
      "image/png": "[encoded data removed]",
      "text/plain": [
       "<Figure size 720x216 with 1 Axes>"
      ]
     },
     "metadata": {
      "needs_background": "light"
     },
     "output_type": "display_data"
    },
    {
     "data": {
      "text/plain": [
       "<pvfactors.geometry.pvarray.OrderedPVArray at 0x25d94c7fda0>"
      ]
     },
     "execution_count": 34,
     "metadata": {},
     "output_type": "execute_result"
    }
   ],
   "source": [
    "debug_pvarray(data_fix, pvarray_parameters)"
   ]
  },
  {
   "cell_type": "code",
   "execution_count": 35,
   "metadata": {},
   "outputs": [
    {
     "name": "stderr",
     "output_type": "stream",
     "text": [
      "INFO:pvfactors.run:Parallel calculation elapsed time: 83.05294895172119 sec\n"
     ]
    }
   ],
   "source": [
    "res3 = pv_engine_run(data_fix, pvarray_parameters, parallel=6)"
   ]
  },
  {
   "cell_type": "code",
   "execution_count": 36,
   "metadata": {},
   "outputs": [
    {
     "data": {
      "image/png": "[encoded data removed]",
      "text/plain": [
       "<Figure size 864x360 with 1 Axes>"
      ]
     },
     "metadata": {
      "needs_background": "light"
     },
     "output_type": "display_data"
    }
   ],
   "source": [
    "plot_gain(res3.qinc_front, res3.qinc_back_high)"
   ]
  },
  {
   "cell_type": "markdown",
   "metadata": {},
   "source": [
    "## Tracked"
   ]
  },
  {
   "cell_type": "code",
   "execution_count": 37,
   "metadata": {},
   "outputs": [],
   "source": [
    "pvarray_parameters = system_def(h_ground=1.8, tracking=True, n_pvrows=3)"
   ]
  },
  {
   "cell_type": "code",
   "execution_count": 39,
   "metadata": {},
   "outputs": [
    {
     "name": "stderr",
     "output_type": "stream",
     "text": [
      "INFO:pvfactors.run:Parallel calculation elapsed time: 80.68236637115479 sec\n"
     ]
    }
   ],
   "source": [
    "res4 = pv_engine_run(data_tracked, pvarray_parameters, parallel=6)"
   ]
  },
  {
   "cell_type": "code",
   "execution_count": 40,
   "metadata": {},
   "outputs": [
    {
     "data": {
      "image/png": "[encoded data removed]",
      "text/plain": [
       "<Figure size 864x360 with 1 Axes>"
      ]
     },
     "metadata": {
      "needs_background": "light"
     },
     "output_type": "display_data"
    }
   ],
   "source": [
    "plot_gain(res4.qinc_front, res4.qinc_back_high)"
   ]
  },
  {
   "cell_type": "markdown",
   "metadata": {},
   "source": [
    "## TOTAL PROD in $MWh/{m^2}$ per year"
   ]
  },
  {
   "cell_type": "code",
   "execution_count": 41,
   "metadata": {},
   "outputs": [
    {
     "data": {
      "text/plain": [
       "2.407256328647536"
      ]
     },
     "execution_count": 41,
     "metadata": {},
     "output_type": "execute_result"
    }
   ],
   "source": [
    "(res4.qinc_front.sum()+res4.qinc_back_high.sum())/1e6"
   ]
  }
 ],
 "metadata": {
  "kernelspec": {
   "display_name": "Python 3",
   "language": "python",
   "name": "python3"
  },
  "language_info": {
   "codemirror_mode": {
    "name": "ipython",
    "version": 3
   },
   "file_extension": ".py",
   "mimetype": "text/x-python",
   "name": "python",
   "nbconvert_exporter": "python",
   "pygments_lexer": "ipython3",
   "version": "3.7.3"
  }
 },
 "nbformat": 4,
 "nbformat_minor": 2
}
